{
  "nbformat": 4,
  "nbformat_minor": 0,
  "metadata": {
    "colab": {
      "provenance": []
    },
    "kernelspec": {
      "name": "python3",
      "display_name": "Python 3"
    },
    "language_info": {
      "name": "python"
    }
  },
  "cells": [
    {
      "cell_type": "markdown",
      "source": [
        "# Proyek Movie Recommendation Nurul Tazkiyah Adam"
      ],
      "metadata": {
        "id": "21NCvsvPnEyg"
      }
    },
    {
      "cell_type": "markdown",
      "source": [
        "# **1. Data Understanding**"
      ],
      "metadata": {
        "id": "z61D3DiKLTyR"
      }
    },
    {
      "cell_type": "markdown",
      "source": [
        "## Import Library"
      ],
      "metadata": {
        "id": "uQtkkCcYJCLO"
      }
    },
    {
      "cell_type": "code",
      "execution_count": 3,
      "metadata": {
        "id": "XAw1SpMXAEGJ"
      },
      "outputs": [],
      "source": [
        "import zipfile\n",
        "import tensorflow as tf\n",
        "import pandas as pd\n",
        "import numpy as np\n",
        "import seaborn as sns\n",
        "from tensorflow import keras\n",
        "from tensorflow.keras import layers\n",
        "import matplotlib.pyplot as plt\n",
        "%matplotlib inline\n",
        "from keras.callbacks import EarlyStopping\n",
        "from google.colab import files\n",
        "from sklearn.feature_extraction.text import TfidfVectorizer\n",
        "from sklearn.metrics.pairwise import cosine_similarity"
      ]
    },
    {
      "cell_type": "markdown",
      "source": [
        "## Download Dataset"
      ],
      "metadata": {
        "id": "XKZYsijIJG8a"
      }
    },
    {
      "cell_type": "markdown",
      "source": [
        "dataset yang digunakan pada proyek ini bisa diakses melalui [tautan ini ](kaggle.com/datasets/rohan4050/movie-recommendation-data). "
      ],
      "metadata": {
        "id": "2ZvLNjfjUfmD"
      }
    },
    {
      "cell_type": "code",
      "source": [
        "!pip install -q kaggle"
      ],
      "metadata": {
        "id": "1iepGWvsoRkz"
      },
      "execution_count": 4,
      "outputs": []
    },
    {
      "cell_type": "code",
      "source": [
        "uploaded = files.upload()"
      ],
      "metadata": {
        "colab": {
          "base_uri": "https://localhost:8080/",
          "height": 72
        },
        "id": "yynQXgrrp5GO",
        "outputId": "fe100c22-27cc-4797-831e-53cdf69b1f43"
      },
      "execution_count": 5,
      "outputs": [
        {
          "output_type": "display_data",
          "data": {
            "text/plain": [
              "<IPython.core.display.HTML object>"
            ],
            "text/html": [
              "\n",
              "     <input type=\"file\" id=\"files-485ccd38-b54e-4042-881b-592607bee75b\" name=\"files[]\" multiple disabled\n",
              "        style=\"border:none\" />\n",
              "     <output id=\"result-485ccd38-b54e-4042-881b-592607bee75b\">\n",
              "      Upload widget is only available when the cell has been executed in the\n",
              "      current browser session. Please rerun this cell to enable.\n",
              "      </output>\n",
              "      <script>// Copyright 2017 Google LLC\n",
              "//\n",
              "// Licensed under the Apache License, Version 2.0 (the \"License\");\n",
              "// you may not use this file except in compliance with the License.\n",
              "// You may obtain a copy of the License at\n",
              "//\n",
              "//      http://www.apache.org/licenses/LICENSE-2.0\n",
              "//\n",
              "// Unless required by applicable law or agreed to in writing, software\n",
              "// distributed under the License is distributed on an \"AS IS\" BASIS,\n",
              "// WITHOUT WARRANTIES OR CONDITIONS OF ANY KIND, either express or implied.\n",
              "// See the License for the specific language governing permissions and\n",
              "// limitations under the License.\n",
              "\n",
              "/**\n",
              " * @fileoverview Helpers for google.colab Python module.\n",
              " */\n",
              "(function(scope) {\n",
              "function span(text, styleAttributes = {}) {\n",
              "  const element = document.createElement('span');\n",
              "  element.textContent = text;\n",
              "  for (const key of Object.keys(styleAttributes)) {\n",
              "    element.style[key] = styleAttributes[key];\n",
              "  }\n",
              "  return element;\n",
              "}\n",
              "\n",
              "// Max number of bytes which will be uploaded at a time.\n",
              "const MAX_PAYLOAD_SIZE = 100 * 1024;\n",
              "\n",
              "function _uploadFiles(inputId, outputId) {\n",
              "  const steps = uploadFilesStep(inputId, outputId);\n",
              "  const outputElement = document.getElementById(outputId);\n",
              "  // Cache steps on the outputElement to make it available for the next call\n",
              "  // to uploadFilesContinue from Python.\n",
              "  outputElement.steps = steps;\n",
              "\n",
              "  return _uploadFilesContinue(outputId);\n",
              "}\n",
              "\n",
              "// This is roughly an async generator (not supported in the browser yet),\n",
              "// where there are multiple asynchronous steps and the Python side is going\n",
              "// to poll for completion of each step.\n",
              "// This uses a Promise to block the python side on completion of each step,\n",
              "// then passes the result of the previous step as the input to the next step.\n",
              "function _uploadFilesContinue(outputId) {\n",
              "  const outputElement = document.getElementById(outputId);\n",
              "  const steps = outputElement.steps;\n",
              "\n",
              "  const next = steps.next(outputElement.lastPromiseValue);\n",
              "  return Promise.resolve(next.value.promise).then((value) => {\n",
              "    // Cache the last promise value to make it available to the next\n",
              "    // step of the generator.\n",
              "    outputElement.lastPromiseValue = value;\n",
              "    return next.value.response;\n",
              "  });\n",
              "}\n",
              "\n",
              "/**\n",
              " * Generator function which is called between each async step of the upload\n",
              " * process.\n",
              " * @param {string} inputId Element ID of the input file picker element.\n",
              " * @param {string} outputId Element ID of the output display.\n",
              " * @return {!Iterable<!Object>} Iterable of next steps.\n",
              " */\n",
              "function* uploadFilesStep(inputId, outputId) {\n",
              "  const inputElement = document.getElementById(inputId);\n",
              "  inputElement.disabled = false;\n",
              "\n",
              "  const outputElement = document.getElementById(outputId);\n",
              "  outputElement.innerHTML = '';\n",
              "\n",
              "  const pickedPromise = new Promise((resolve) => {\n",
              "    inputElement.addEventListener('change', (e) => {\n",
              "      resolve(e.target.files);\n",
              "    });\n",
              "  });\n",
              "\n",
              "  const cancel = document.createElement('button');\n",
              "  inputElement.parentElement.appendChild(cancel);\n",
              "  cancel.textContent = 'Cancel upload';\n",
              "  const cancelPromise = new Promise((resolve) => {\n",
              "    cancel.onclick = () => {\n",
              "      resolve(null);\n",
              "    };\n",
              "  });\n",
              "\n",
              "  // Wait for the user to pick the files.\n",
              "  const files = yield {\n",
              "    promise: Promise.race([pickedPromise, cancelPromise]),\n",
              "    response: {\n",
              "      action: 'starting',\n",
              "    }\n",
              "  };\n",
              "\n",
              "  cancel.remove();\n",
              "\n",
              "  // Disable the input element since further picks are not allowed.\n",
              "  inputElement.disabled = true;\n",
              "\n",
              "  if (!files) {\n",
              "    return {\n",
              "      response: {\n",
              "        action: 'complete',\n",
              "      }\n",
              "    };\n",
              "  }\n",
              "\n",
              "  for (const file of files) {\n",
              "    const li = document.createElement('li');\n",
              "    li.append(span(file.name, {fontWeight: 'bold'}));\n",
              "    li.append(span(\n",
              "        `(${file.type || 'n/a'}) - ${file.size} bytes, ` +\n",
              "        `last modified: ${\n",
              "            file.lastModifiedDate ? file.lastModifiedDate.toLocaleDateString() :\n",
              "                                    'n/a'} - `));\n",
              "    const percent = span('0% done');\n",
              "    li.appendChild(percent);\n",
              "\n",
              "    outputElement.appendChild(li);\n",
              "\n",
              "    const fileDataPromise = new Promise((resolve) => {\n",
              "      const reader = new FileReader();\n",
              "      reader.onload = (e) => {\n",
              "        resolve(e.target.result);\n",
              "      };\n",
              "      reader.readAsArrayBuffer(file);\n",
              "    });\n",
              "    // Wait for the data to be ready.\n",
              "    let fileData = yield {\n",
              "      promise: fileDataPromise,\n",
              "      response: {\n",
              "        action: 'continue',\n",
              "      }\n",
              "    };\n",
              "\n",
              "    // Use a chunked sending to avoid message size limits. See b/62115660.\n",
              "    let position = 0;\n",
              "    do {\n",
              "      const length = Math.min(fileData.byteLength - position, MAX_PAYLOAD_SIZE);\n",
              "      const chunk = new Uint8Array(fileData, position, length);\n",
              "      position += length;\n",
              "\n",
              "      const base64 = btoa(String.fromCharCode.apply(null, chunk));\n",
              "      yield {\n",
              "        response: {\n",
              "          action: 'append',\n",
              "          file: file.name,\n",
              "          data: base64,\n",
              "        },\n",
              "      };\n",
              "\n",
              "      let percentDone = fileData.byteLength === 0 ?\n",
              "          100 :\n",
              "          Math.round((position / fileData.byteLength) * 100);\n",
              "      percent.textContent = `${percentDone}% done`;\n",
              "\n",
              "    } while (position < fileData.byteLength);\n",
              "  }\n",
              "\n",
              "  // All done.\n",
              "  yield {\n",
              "    response: {\n",
              "      action: 'complete',\n",
              "    }\n",
              "  };\n",
              "}\n",
              "\n",
              "scope.google = scope.google || {};\n",
              "scope.google.colab = scope.google.colab || {};\n",
              "scope.google.colab._files = {\n",
              "  _uploadFiles,\n",
              "  _uploadFilesContinue,\n",
              "};\n",
              "})(self);\n",
              "</script> "
            ]
          },
          "metadata": {}
        },
        {
          "output_type": "stream",
          "name": "stdout",
          "text": [
            "Saving kaggle.json to kaggle.json\n"
          ]
        }
      ]
    },
    {
      "cell_type": "code",
      "source": [
        "!chmod 600 /content/kaggle.json"
      ],
      "metadata": {
        "id": "CN70vKgVp9-J"
      },
      "execution_count": 6,
      "outputs": []
    },
    {
      "cell_type": "code",
      "source": [
        "! KAGGLE_CONFIG_DIR=/content/ kaggle datasets download -d rohan4050/movie-recommendation-data"
      ],
      "metadata": {
        "colab": {
          "base_uri": "https://localhost:8080/"
        },
        "id": "qIcRv96U5Vvc",
        "outputId": "b0437a2d-8b93-4b7b-d77d-67b6840a4bc7"
      },
      "execution_count": 7,
      "outputs": [
        {
          "output_type": "stream",
          "name": "stdout",
          "text": [
            "Downloading movie-recommendation-data.zip to /content\n",
            "\r  0% 0.00/13.1M [00:00<?, ?B/s]\r 61% 8.00M/13.1M [00:00<00:00, 82.2MB/s]\n",
            "\r100% 13.1M/13.1M [00:00<00:00, 74.4MB/s]\n"
          ]
        }
      ]
    },
    {
      "cell_type": "code",
      "source": [
        "local_zip = '/content/movie-recommendation-data.zip'\n",
        "zip_ref = zipfile.ZipFile(local_zip, 'r')\n",
        "zip_ref.extractall('/content')\n",
        "zip_ref.close()"
      ],
      "metadata": {
        "id": "f5o-Xlad5fBP"
      },
      "execution_count": 8,
      "outputs": []
    },
    {
      "cell_type": "markdown",
      "source": [
        "dalam dataset terdapat \n",
        "\n",
        "\n",
        "*   folder ml-latest-small, dengan isi file:\n",
        "    - links.csv\n",
        "    - movies.csv\n",
        "    - ratings.csv\n",
        "    - tags.csv\n",
        "*   file movies_metadata.csv\n",
        "\n",
        "namun pada proyek ini hanya akan menggunakan file `movies.csv` dan `ratings.csv`\n",
        "\n"
      ],
      "metadata": {
        "id": "8BxC_j9BUxU5"
      }
    },
    {
      "cell_type": "markdown",
      "source": [
        "## Univariate Exploratory Data Analysis"
      ],
      "metadata": {
        "id": "cqsfNP1sJQsR"
      }
    },
    {
      "cell_type": "code",
      "source": [
        "movies = pd.read_csv('/content/ml-latest-small/movies.csv')\n",
        "ratings = pd.read_csv('/content/ml-latest-small/ratings.csv')\n",
        "\n",
        "print(f'Jumlah data movies sebanyak {movies.shape[0]}')\n",
        "print(f'Jumlah variabel pada data movies sebanyak {movies.shape[1]} variabel')\n",
        "print(f'Jumlah data ratings sebanyak {ratings.shape[0]}')\n",
        "print(f'Jumlah variabel pada data ratings sebanyak {ratings.shape[1]} variabel')"
      ],
      "metadata": {
        "id": "MaIqAApA5oyS",
        "colab": {
          "base_uri": "https://localhost:8080/"
        },
        "outputId": "18a86e30-b6b2-4707-929a-568895ea7527"
      },
      "execution_count": 9,
      "outputs": [
        {
          "output_type": "stream",
          "name": "stdout",
          "text": [
            "Jumlah data movies sebanyak 9742\n",
            "Jumlah variabel pada data movies sebanyak 3 variabel\n",
            "Jumlah data ratings sebanyak 100836\n",
            "Jumlah variabel pada data ratings sebanyak 4 variabel\n"
          ]
        }
      ]
    },
    {
      "cell_type": "markdown",
      "source": [
        "### **Dataset Movies**"
      ],
      "metadata": {
        "id": "R6a6yl2kMvyP"
      }
    },
    {
      "cell_type": "code",
      "source": [
        "movies.head()"
      ],
      "metadata": {
        "colab": {
          "base_uri": "https://localhost:8080/",
          "height": 206
        },
        "id": "oNZB01oh54Kl",
        "outputId": "d6799dcb-0f22-470d-f77a-2ddc3980eaa6"
      },
      "execution_count": 10,
      "outputs": [
        {
          "output_type": "execute_result",
          "data": {
            "text/plain": [
              "   movieId                               title  \\\n",
              "0        1                    Toy Story (1995)   \n",
              "1        2                      Jumanji (1995)   \n",
              "2        3             Grumpier Old Men (1995)   \n",
              "3        4            Waiting to Exhale (1995)   \n",
              "4        5  Father of the Bride Part II (1995)   \n",
              "\n",
              "                                        genres  \n",
              "0  Adventure|Animation|Children|Comedy|Fantasy  \n",
              "1                   Adventure|Children|Fantasy  \n",
              "2                               Comedy|Romance  \n",
              "3                         Comedy|Drama|Romance  \n",
              "4                                       Comedy  "
            ],
            "text/html": [
              "\n",
              "  <div id=\"df-84eefaa0-e61b-4e08-aad2-f12b8afe635c\">\n",
              "    <div class=\"colab-df-container\">\n",
              "      <div>\n",
              "<style scoped>\n",
              "    .dataframe tbody tr th:only-of-type {\n",
              "        vertical-align: middle;\n",
              "    }\n",
              "\n",
              "    .dataframe tbody tr th {\n",
              "        vertical-align: top;\n",
              "    }\n",
              "\n",
              "    .dataframe thead th {\n",
              "        text-align: right;\n",
              "    }\n",
              "</style>\n",
              "<table border=\"1\" class=\"dataframe\">\n",
              "  <thead>\n",
              "    <tr style=\"text-align: right;\">\n",
              "      <th></th>\n",
              "      <th>movieId</th>\n",
              "      <th>title</th>\n",
              "      <th>genres</th>\n",
              "    </tr>\n",
              "  </thead>\n",
              "  <tbody>\n",
              "    <tr>\n",
              "      <th>0</th>\n",
              "      <td>1</td>\n",
              "      <td>Toy Story (1995)</td>\n",
              "      <td>Adventure|Animation|Children|Comedy|Fantasy</td>\n",
              "    </tr>\n",
              "    <tr>\n",
              "      <th>1</th>\n",
              "      <td>2</td>\n",
              "      <td>Jumanji (1995)</td>\n",
              "      <td>Adventure|Children|Fantasy</td>\n",
              "    </tr>\n",
              "    <tr>\n",
              "      <th>2</th>\n",
              "      <td>3</td>\n",
              "      <td>Grumpier Old Men (1995)</td>\n",
              "      <td>Comedy|Romance</td>\n",
              "    </tr>\n",
              "    <tr>\n",
              "      <th>3</th>\n",
              "      <td>4</td>\n",
              "      <td>Waiting to Exhale (1995)</td>\n",
              "      <td>Comedy|Drama|Romance</td>\n",
              "    </tr>\n",
              "    <tr>\n",
              "      <th>4</th>\n",
              "      <td>5</td>\n",
              "      <td>Father of the Bride Part II (1995)</td>\n",
              "      <td>Comedy</td>\n",
              "    </tr>\n",
              "  </tbody>\n",
              "</table>\n",
              "</div>\n",
              "      <button class=\"colab-df-convert\" onclick=\"convertToInteractive('df-84eefaa0-e61b-4e08-aad2-f12b8afe635c')\"\n",
              "              title=\"Convert this dataframe to an interactive table.\"\n",
              "              style=\"display:none;\">\n",
              "        \n",
              "  <svg xmlns=\"http://www.w3.org/2000/svg\" height=\"24px\"viewBox=\"0 0 24 24\"\n",
              "       width=\"24px\">\n",
              "    <path d=\"M0 0h24v24H0V0z\" fill=\"none\"/>\n",
              "    <path d=\"M18.56 5.44l.94 2.06.94-2.06 2.06-.94-2.06-.94-.94-2.06-.94 2.06-2.06.94zm-11 1L8.5 8.5l.94-2.06 2.06-.94-2.06-.94L8.5 2.5l-.94 2.06-2.06.94zm10 10l.94 2.06.94-2.06 2.06-.94-2.06-.94-.94-2.06-.94 2.06-2.06.94z\"/><path d=\"M17.41 7.96l-1.37-1.37c-.4-.4-.92-.59-1.43-.59-.52 0-1.04.2-1.43.59L10.3 9.45l-7.72 7.72c-.78.78-.78 2.05 0 2.83L4 21.41c.39.39.9.59 1.41.59.51 0 1.02-.2 1.41-.59l7.78-7.78 2.81-2.81c.8-.78.8-2.07 0-2.86zM5.41 20L4 18.59l7.72-7.72 1.47 1.35L5.41 20z\"/>\n",
              "  </svg>\n",
              "      </button>\n",
              "      \n",
              "  <style>\n",
              "    .colab-df-container {\n",
              "      display:flex;\n",
              "      flex-wrap:wrap;\n",
              "      gap: 12px;\n",
              "    }\n",
              "\n",
              "    .colab-df-convert {\n",
              "      background-color: #E8F0FE;\n",
              "      border: none;\n",
              "      border-radius: 50%;\n",
              "      cursor: pointer;\n",
              "      display: none;\n",
              "      fill: #1967D2;\n",
              "      height: 32px;\n",
              "      padding: 0 0 0 0;\n",
              "      width: 32px;\n",
              "    }\n",
              "\n",
              "    .colab-df-convert:hover {\n",
              "      background-color: #E2EBFA;\n",
              "      box-shadow: 0px 1px 2px rgba(60, 64, 67, 0.3), 0px 1px 3px 1px rgba(60, 64, 67, 0.15);\n",
              "      fill: #174EA6;\n",
              "    }\n",
              "\n",
              "    [theme=dark] .colab-df-convert {\n",
              "      background-color: #3B4455;\n",
              "      fill: #D2E3FC;\n",
              "    }\n",
              "\n",
              "    [theme=dark] .colab-df-convert:hover {\n",
              "      background-color: #434B5C;\n",
              "      box-shadow: 0px 1px 3px 1px rgba(0, 0, 0, 0.15);\n",
              "      filter: drop-shadow(0px 1px 2px rgba(0, 0, 0, 0.3));\n",
              "      fill: #FFFFFF;\n",
              "    }\n",
              "  </style>\n",
              "\n",
              "      <script>\n",
              "        const buttonEl =\n",
              "          document.querySelector('#df-84eefaa0-e61b-4e08-aad2-f12b8afe635c button.colab-df-convert');\n",
              "        buttonEl.style.display =\n",
              "          google.colab.kernel.accessAllowed ? 'block' : 'none';\n",
              "\n",
              "        async function convertToInteractive(key) {\n",
              "          const element = document.querySelector('#df-84eefaa0-e61b-4e08-aad2-f12b8afe635c');\n",
              "          const dataTable =\n",
              "            await google.colab.kernel.invokeFunction('convertToInteractive',\n",
              "                                                     [key], {});\n",
              "          if (!dataTable) return;\n",
              "\n",
              "          const docLinkHtml = 'Like what you see? Visit the ' +\n",
              "            '<a target=\"_blank\" href=https://colab.research.google.com/notebooks/data_table.ipynb>data table notebook</a>'\n",
              "            + ' to learn more about interactive tables.';\n",
              "          element.innerHTML = '';\n",
              "          dataTable['output_type'] = 'display_data';\n",
              "          await google.colab.output.renderOutput(dataTable, element);\n",
              "          const docLink = document.createElement('div');\n",
              "          docLink.innerHTML = docLinkHtml;\n",
              "          element.appendChild(docLink);\n",
              "        }\n",
              "      </script>\n",
              "    </div>\n",
              "  </div>\n",
              "  "
            ]
          },
          "metadata": {},
          "execution_count": 10
        }
      ]
    },
    {
      "cell_type": "markdown",
      "source": [
        "Variable dataset movies terbagi 3 yakni:\n",
        "- `movieId` -> ID film\n",
        "- `title` -> Judul film\n",
        "- `genres` -> Genre film\n",
        "\n",
        "dengan detail tipe data sebagai berikut\n",
        "\n"
      ],
      "metadata": {
        "id": "z0O_wmdxPiU1"
      }
    },
    {
      "cell_type": "code",
      "source": [
        "movies.info() "
      ],
      "metadata": {
        "colab": {
          "base_uri": "https://localhost:8080/"
        },
        "id": "45b1xHWT59cM",
        "outputId": "eb6e7f8a-5817-473d-fb8f-d0993a954ee0"
      },
      "execution_count": 11,
      "outputs": [
        {
          "output_type": "stream",
          "name": "stdout",
          "text": [
            "<class 'pandas.core.frame.DataFrame'>\n",
            "RangeIndex: 9742 entries, 0 to 9741\n",
            "Data columns (total 3 columns):\n",
            " #   Column   Non-Null Count  Dtype \n",
            "---  ------   --------------  ----- \n",
            " 0   movieId  9742 non-null   int64 \n",
            " 1   title    9742 non-null   object\n",
            " 2   genres   9742 non-null   object\n",
            "dtypes: int64(1), object(2)\n",
            "memory usage: 228.5+ KB\n"
          ]
        }
      ]
    },
    {
      "cell_type": "code",
      "source": [
        "print(f'Cek Missing Value Pada Variable Dataset Movies:')\n",
        "print(f'- movieId sebanyak {movies.movieId.isnull().sum()}')\n",
        "print(f'- title sebanyak {movies.title.isnull().sum()}')\n",
        "print(f'- movieId sebanyak {movies.genres.isnull().sum()}')"
      ],
      "metadata": {
        "colab": {
          "base_uri": "https://localhost:8080/"
        },
        "id": "Dwnt9mLbDzXi",
        "outputId": "825cbae1-7a3e-4175-a30e-6bf5e168829d"
      },
      "execution_count": 12,
      "outputs": [
        {
          "output_type": "stream",
          "name": "stdout",
          "text": [
            "Cek Missing Value Pada Variable Dataset Movies:\n",
            "- movieId sebanyak 0\n",
            "- title sebanyak 0\n",
            "- movieId sebanyak 0\n"
          ]
        }
      ]
    },
    {
      "cell_type": "code",
      "source": [
        "print(f'Cek Duplikasi Dataset Movies: {movies.duplicated().sum()} duplikasi')"
      ],
      "metadata": {
        "colab": {
          "base_uri": "https://localhost:8080/"
        },
        "id": "sbGX7VYgD_KW",
        "outputId": "e5adcbec-e6da-4e40-99cd-51ca225edff1"
      },
      "execution_count": 13,
      "outputs": [
        {
          "output_type": "stream",
          "name": "stdout",
          "text": [
            "Cek Duplikasi Dataset Movies: 0 duplikasi\n"
          ]
        }
      ]
    },
    {
      "cell_type": "code",
      "source": [
        "print(f'Cek Data Unique Pada Variable Dataset Movies:')\n",
        "print(f'- movieId sebanyak {movies.movieId.nunique()}')\n",
        "print(f'- title sebanyak {movies.title.nunique()}')\n",
        "print(f'- movieId sebanyak {movies.genres.nunique()}')"
      ],
      "metadata": {
        "colab": {
          "base_uri": "https://localhost:8080/"
        },
        "id": "0ihW4bYBNRyy",
        "outputId": "811c28bd-9136-42df-b4cc-d013aecfecb7"
      },
      "execution_count": 14,
      "outputs": [
        {
          "output_type": "stream",
          "name": "stdout",
          "text": [
            "Cek Data Unique Pada Variable Dataset Movies:\n",
            "- movieId sebanyak 9742\n",
            "- title sebanyak 9737\n",
            "- movieId sebanyak 951\n"
          ]
        }
      ]
    },
    {
      "cell_type": "markdown",
      "source": [
        "### **Dataset Ratings**"
      ],
      "metadata": {
        "id": "onjSFwPvVW11"
      }
    },
    {
      "cell_type": "code",
      "source": [
        "ratings.head()"
      ],
      "metadata": {
        "colab": {
          "base_uri": "https://localhost:8080/",
          "height": 206
        },
        "id": "kMicn1eE6grB",
        "outputId": "3e35c433-349c-451d-e9b2-84d9cd6cba7b"
      },
      "execution_count": 15,
      "outputs": [
        {
          "output_type": "execute_result",
          "data": {
            "text/plain": [
              "   userId  movieId  rating  timestamp\n",
              "0       1        1     4.0  964982703\n",
              "1       1        3     4.0  964981247\n",
              "2       1        6     4.0  964982224\n",
              "3       1       47     5.0  964983815\n",
              "4       1       50     5.0  964982931"
            ],
            "text/html": [
              "\n",
              "  <div id=\"df-6da1ac64-a204-45cd-ada6-fb979a9e54b0\">\n",
              "    <div class=\"colab-df-container\">\n",
              "      <div>\n",
              "<style scoped>\n",
              "    .dataframe tbody tr th:only-of-type {\n",
              "        vertical-align: middle;\n",
              "    }\n",
              "\n",
              "    .dataframe tbody tr th {\n",
              "        vertical-align: top;\n",
              "    }\n",
              "\n",
              "    .dataframe thead th {\n",
              "        text-align: right;\n",
              "    }\n",
              "</style>\n",
              "<table border=\"1\" class=\"dataframe\">\n",
              "  <thead>\n",
              "    <tr style=\"text-align: right;\">\n",
              "      <th></th>\n",
              "      <th>userId</th>\n",
              "      <th>movieId</th>\n",
              "      <th>rating</th>\n",
              "      <th>timestamp</th>\n",
              "    </tr>\n",
              "  </thead>\n",
              "  <tbody>\n",
              "    <tr>\n",
              "      <th>0</th>\n",
              "      <td>1</td>\n",
              "      <td>1</td>\n",
              "      <td>4.0</td>\n",
              "      <td>964982703</td>\n",
              "    </tr>\n",
              "    <tr>\n",
              "      <th>1</th>\n",
              "      <td>1</td>\n",
              "      <td>3</td>\n",
              "      <td>4.0</td>\n",
              "      <td>964981247</td>\n",
              "    </tr>\n",
              "    <tr>\n",
              "      <th>2</th>\n",
              "      <td>1</td>\n",
              "      <td>6</td>\n",
              "      <td>4.0</td>\n",
              "      <td>964982224</td>\n",
              "    </tr>\n",
              "    <tr>\n",
              "      <th>3</th>\n",
              "      <td>1</td>\n",
              "      <td>47</td>\n",
              "      <td>5.0</td>\n",
              "      <td>964983815</td>\n",
              "    </tr>\n",
              "    <tr>\n",
              "      <th>4</th>\n",
              "      <td>1</td>\n",
              "      <td>50</td>\n",
              "      <td>5.0</td>\n",
              "      <td>964982931</td>\n",
              "    </tr>\n",
              "  </tbody>\n",
              "</table>\n",
              "</div>\n",
              "      <button class=\"colab-df-convert\" onclick=\"convertToInteractive('df-6da1ac64-a204-45cd-ada6-fb979a9e54b0')\"\n",
              "              title=\"Convert this dataframe to an interactive table.\"\n",
              "              style=\"display:none;\">\n",
              "        \n",
              "  <svg xmlns=\"http://www.w3.org/2000/svg\" height=\"24px\"viewBox=\"0 0 24 24\"\n",
              "       width=\"24px\">\n",
              "    <path d=\"M0 0h24v24H0V0z\" fill=\"none\"/>\n",
              "    <path d=\"M18.56 5.44l.94 2.06.94-2.06 2.06-.94-2.06-.94-.94-2.06-.94 2.06-2.06.94zm-11 1L8.5 8.5l.94-2.06 2.06-.94-2.06-.94L8.5 2.5l-.94 2.06-2.06.94zm10 10l.94 2.06.94-2.06 2.06-.94-2.06-.94-.94-2.06-.94 2.06-2.06.94z\"/><path d=\"M17.41 7.96l-1.37-1.37c-.4-.4-.92-.59-1.43-.59-.52 0-1.04.2-1.43.59L10.3 9.45l-7.72 7.72c-.78.78-.78 2.05 0 2.83L4 21.41c.39.39.9.59 1.41.59.51 0 1.02-.2 1.41-.59l7.78-7.78 2.81-2.81c.8-.78.8-2.07 0-2.86zM5.41 20L4 18.59l7.72-7.72 1.47 1.35L5.41 20z\"/>\n",
              "  </svg>\n",
              "      </button>\n",
              "      \n",
              "  <style>\n",
              "    .colab-df-container {\n",
              "      display:flex;\n",
              "      flex-wrap:wrap;\n",
              "      gap: 12px;\n",
              "    }\n",
              "\n",
              "    .colab-df-convert {\n",
              "      background-color: #E8F0FE;\n",
              "      border: none;\n",
              "      border-radius: 50%;\n",
              "      cursor: pointer;\n",
              "      display: none;\n",
              "      fill: #1967D2;\n",
              "      height: 32px;\n",
              "      padding: 0 0 0 0;\n",
              "      width: 32px;\n",
              "    }\n",
              "\n",
              "    .colab-df-convert:hover {\n",
              "      background-color: #E2EBFA;\n",
              "      box-shadow: 0px 1px 2px rgba(60, 64, 67, 0.3), 0px 1px 3px 1px rgba(60, 64, 67, 0.15);\n",
              "      fill: #174EA6;\n",
              "    }\n",
              "\n",
              "    [theme=dark] .colab-df-convert {\n",
              "      background-color: #3B4455;\n",
              "      fill: #D2E3FC;\n",
              "    }\n",
              "\n",
              "    [theme=dark] .colab-df-convert:hover {\n",
              "      background-color: #434B5C;\n",
              "      box-shadow: 0px 1px 3px 1px rgba(0, 0, 0, 0.15);\n",
              "      filter: drop-shadow(0px 1px 2px rgba(0, 0, 0, 0.3));\n",
              "      fill: #FFFFFF;\n",
              "    }\n",
              "  </style>\n",
              "\n",
              "      <script>\n",
              "        const buttonEl =\n",
              "          document.querySelector('#df-6da1ac64-a204-45cd-ada6-fb979a9e54b0 button.colab-df-convert');\n",
              "        buttonEl.style.display =\n",
              "          google.colab.kernel.accessAllowed ? 'block' : 'none';\n",
              "\n",
              "        async function convertToInteractive(key) {\n",
              "          const element = document.querySelector('#df-6da1ac64-a204-45cd-ada6-fb979a9e54b0');\n",
              "          const dataTable =\n",
              "            await google.colab.kernel.invokeFunction('convertToInteractive',\n",
              "                                                     [key], {});\n",
              "          if (!dataTable) return;\n",
              "\n",
              "          const docLinkHtml = 'Like what you see? Visit the ' +\n",
              "            '<a target=\"_blank\" href=https://colab.research.google.com/notebooks/data_table.ipynb>data table notebook</a>'\n",
              "            + ' to learn more about interactive tables.';\n",
              "          element.innerHTML = '';\n",
              "          dataTable['output_type'] = 'display_data';\n",
              "          await google.colab.output.renderOutput(dataTable, element);\n",
              "          const docLink = document.createElement('div');\n",
              "          docLink.innerHTML = docLinkHtml;\n",
              "          element.appendChild(docLink);\n",
              "        }\n",
              "      </script>\n",
              "    </div>\n",
              "  </div>\n",
              "  "
            ]
          },
          "metadata": {},
          "execution_count": 15
        }
      ]
    },
    {
      "cell_type": "markdown",
      "source": [
        "Variable dataset ratings terbagi 4 yakni:\n",
        "- `userId` -> ID User pemberi rating\n",
        "- `movieId` -> ID film yang dirating\n",
        "- `rating` -> Rating film yang diberikan user\n",
        "- `timestamp` -> Waktu rating terekam\n",
        "\n",
        "dengan detail tipe data sebagai berikut"
      ],
      "metadata": {
        "id": "hF372B2TV7La"
      }
    },
    {
      "cell_type": "code",
      "source": [
        "ratings.info()"
      ],
      "metadata": {
        "colab": {
          "base_uri": "https://localhost:8080/"
        },
        "id": "N2P8F7Cz6f_P",
        "outputId": "ffb41470-3ba0-4f0d-fe87-3e2f090b392d"
      },
      "execution_count": 16,
      "outputs": [
        {
          "output_type": "stream",
          "name": "stdout",
          "text": [
            "<class 'pandas.core.frame.DataFrame'>\n",
            "RangeIndex: 100836 entries, 0 to 100835\n",
            "Data columns (total 4 columns):\n",
            " #   Column     Non-Null Count   Dtype  \n",
            "---  ------     --------------   -----  \n",
            " 0   userId     100836 non-null  int64  \n",
            " 1   movieId    100836 non-null  int64  \n",
            " 2   rating     100836 non-null  float64\n",
            " 3   timestamp  100836 non-null  int64  \n",
            "dtypes: float64(1), int64(3)\n",
            "memory usage: 3.1 MB\n"
          ]
        }
      ]
    },
    {
      "cell_type": "code",
      "source": [
        "ratings.describe()"
      ],
      "metadata": {
        "colab": {
          "base_uri": "https://localhost:8080/",
          "height": 301
        },
        "id": "KfFXdHp25-S_",
        "outputId": "30f3a9a9-0e8d-4278-a244-c3c746f7afcf"
      },
      "execution_count": 17,
      "outputs": [
        {
          "output_type": "execute_result",
          "data": {
            "text/plain": [
              "              userId        movieId         rating     timestamp\n",
              "count  100836.000000  100836.000000  100836.000000  1.008360e+05\n",
              "mean      326.127564   19435.295718       3.501557  1.205946e+09\n",
              "std       182.618491   35530.987199       1.042529  2.162610e+08\n",
              "min         1.000000       1.000000       0.500000  8.281246e+08\n",
              "25%       177.000000    1199.000000       3.000000  1.019124e+09\n",
              "50%       325.000000    2991.000000       3.500000  1.186087e+09\n",
              "75%       477.000000    8122.000000       4.000000  1.435994e+09\n",
              "max       610.000000  193609.000000       5.000000  1.537799e+09"
            ],
            "text/html": [
              "\n",
              "  <div id=\"df-53aa98f2-08c6-4423-8293-d6fc45ade8a1\">\n",
              "    <div class=\"colab-df-container\">\n",
              "      <div>\n",
              "<style scoped>\n",
              "    .dataframe tbody tr th:only-of-type {\n",
              "        vertical-align: middle;\n",
              "    }\n",
              "\n",
              "    .dataframe tbody tr th {\n",
              "        vertical-align: top;\n",
              "    }\n",
              "\n",
              "    .dataframe thead th {\n",
              "        text-align: right;\n",
              "    }\n",
              "</style>\n",
              "<table border=\"1\" class=\"dataframe\">\n",
              "  <thead>\n",
              "    <tr style=\"text-align: right;\">\n",
              "      <th></th>\n",
              "      <th>userId</th>\n",
              "      <th>movieId</th>\n",
              "      <th>rating</th>\n",
              "      <th>timestamp</th>\n",
              "    </tr>\n",
              "  </thead>\n",
              "  <tbody>\n",
              "    <tr>\n",
              "      <th>count</th>\n",
              "      <td>100836.000000</td>\n",
              "      <td>100836.000000</td>\n",
              "      <td>100836.000000</td>\n",
              "      <td>1.008360e+05</td>\n",
              "    </tr>\n",
              "    <tr>\n",
              "      <th>mean</th>\n",
              "      <td>326.127564</td>\n",
              "      <td>19435.295718</td>\n",
              "      <td>3.501557</td>\n",
              "      <td>1.205946e+09</td>\n",
              "    </tr>\n",
              "    <tr>\n",
              "      <th>std</th>\n",
              "      <td>182.618491</td>\n",
              "      <td>35530.987199</td>\n",
              "      <td>1.042529</td>\n",
              "      <td>2.162610e+08</td>\n",
              "    </tr>\n",
              "    <tr>\n",
              "      <th>min</th>\n",
              "      <td>1.000000</td>\n",
              "      <td>1.000000</td>\n",
              "      <td>0.500000</td>\n",
              "      <td>8.281246e+08</td>\n",
              "    </tr>\n",
              "    <tr>\n",
              "      <th>25%</th>\n",
              "      <td>177.000000</td>\n",
              "      <td>1199.000000</td>\n",
              "      <td>3.000000</td>\n",
              "      <td>1.019124e+09</td>\n",
              "    </tr>\n",
              "    <tr>\n",
              "      <th>50%</th>\n",
              "      <td>325.000000</td>\n",
              "      <td>2991.000000</td>\n",
              "      <td>3.500000</td>\n",
              "      <td>1.186087e+09</td>\n",
              "    </tr>\n",
              "    <tr>\n",
              "      <th>75%</th>\n",
              "      <td>477.000000</td>\n",
              "      <td>8122.000000</td>\n",
              "      <td>4.000000</td>\n",
              "      <td>1.435994e+09</td>\n",
              "    </tr>\n",
              "    <tr>\n",
              "      <th>max</th>\n",
              "      <td>610.000000</td>\n",
              "      <td>193609.000000</td>\n",
              "      <td>5.000000</td>\n",
              "      <td>1.537799e+09</td>\n",
              "    </tr>\n",
              "  </tbody>\n",
              "</table>\n",
              "</div>\n",
              "      <button class=\"colab-df-convert\" onclick=\"convertToInteractive('df-53aa98f2-08c6-4423-8293-d6fc45ade8a1')\"\n",
              "              title=\"Convert this dataframe to an interactive table.\"\n",
              "              style=\"display:none;\">\n",
              "        \n",
              "  <svg xmlns=\"http://www.w3.org/2000/svg\" height=\"24px\"viewBox=\"0 0 24 24\"\n",
              "       width=\"24px\">\n",
              "    <path d=\"M0 0h24v24H0V0z\" fill=\"none\"/>\n",
              "    <path d=\"M18.56 5.44l.94 2.06.94-2.06 2.06-.94-2.06-.94-.94-2.06-.94 2.06-2.06.94zm-11 1L8.5 8.5l.94-2.06 2.06-.94-2.06-.94L8.5 2.5l-.94 2.06-2.06.94zm10 10l.94 2.06.94-2.06 2.06-.94-2.06-.94-.94-2.06-.94 2.06-2.06.94z\"/><path d=\"M17.41 7.96l-1.37-1.37c-.4-.4-.92-.59-1.43-.59-.52 0-1.04.2-1.43.59L10.3 9.45l-7.72 7.72c-.78.78-.78 2.05 0 2.83L4 21.41c.39.39.9.59 1.41.59.51 0 1.02-.2 1.41-.59l7.78-7.78 2.81-2.81c.8-.78.8-2.07 0-2.86zM5.41 20L4 18.59l7.72-7.72 1.47 1.35L5.41 20z\"/>\n",
              "  </svg>\n",
              "      </button>\n",
              "      \n",
              "  <style>\n",
              "    .colab-df-container {\n",
              "      display:flex;\n",
              "      flex-wrap:wrap;\n",
              "      gap: 12px;\n",
              "    }\n",
              "\n",
              "    .colab-df-convert {\n",
              "      background-color: #E8F0FE;\n",
              "      border: none;\n",
              "      border-radius: 50%;\n",
              "      cursor: pointer;\n",
              "      display: none;\n",
              "      fill: #1967D2;\n",
              "      height: 32px;\n",
              "      padding: 0 0 0 0;\n",
              "      width: 32px;\n",
              "    }\n",
              "\n",
              "    .colab-df-convert:hover {\n",
              "      background-color: #E2EBFA;\n",
              "      box-shadow: 0px 1px 2px rgba(60, 64, 67, 0.3), 0px 1px 3px 1px rgba(60, 64, 67, 0.15);\n",
              "      fill: #174EA6;\n",
              "    }\n",
              "\n",
              "    [theme=dark] .colab-df-convert {\n",
              "      background-color: #3B4455;\n",
              "      fill: #D2E3FC;\n",
              "    }\n",
              "\n",
              "    [theme=dark] .colab-df-convert:hover {\n",
              "      background-color: #434B5C;\n",
              "      box-shadow: 0px 1px 3px 1px rgba(0, 0, 0, 0.15);\n",
              "      filter: drop-shadow(0px 1px 2px rgba(0, 0, 0, 0.3));\n",
              "      fill: #FFFFFF;\n",
              "    }\n",
              "  </style>\n",
              "\n",
              "      <script>\n",
              "        const buttonEl =\n",
              "          document.querySelector('#df-53aa98f2-08c6-4423-8293-d6fc45ade8a1 button.colab-df-convert');\n",
              "        buttonEl.style.display =\n",
              "          google.colab.kernel.accessAllowed ? 'block' : 'none';\n",
              "\n",
              "        async function convertToInteractive(key) {\n",
              "          const element = document.querySelector('#df-53aa98f2-08c6-4423-8293-d6fc45ade8a1');\n",
              "          const dataTable =\n",
              "            await google.colab.kernel.invokeFunction('convertToInteractive',\n",
              "                                                     [key], {});\n",
              "          if (!dataTable) return;\n",
              "\n",
              "          const docLinkHtml = 'Like what you see? Visit the ' +\n",
              "            '<a target=\"_blank\" href=https://colab.research.google.com/notebooks/data_table.ipynb>data table notebook</a>'\n",
              "            + ' to learn more about interactive tables.';\n",
              "          element.innerHTML = '';\n",
              "          dataTable['output_type'] = 'display_data';\n",
              "          await google.colab.output.renderOutput(dataTable, element);\n",
              "          const docLink = document.createElement('div');\n",
              "          docLink.innerHTML = docLinkHtml;\n",
              "          element.appendChild(docLink);\n",
              "        }\n",
              "      </script>\n",
              "    </div>\n",
              "  </div>\n",
              "  "
            ]
          },
          "metadata": {},
          "execution_count": 17
        }
      ]
    },
    {
      "cell_type": "markdown",
      "source": [
        "setelah dicek, didapatkan informasi skala dari rating film yakni rating 0,5 sampai rating 5."
      ],
      "metadata": {
        "id": "vgiEhMrgW6aK"
      }
    },
    {
      "cell_type": "code",
      "source": [
        "print(f'Cek Missing Value Pada Variable Dataset Ratings:')\n",
        "print(f'- userId sebanyak {ratings.userId.isnull().sum()}')\n",
        "print(f'- movieId sebanyak {ratings.movieId.isnull().sum()}')\n",
        "print(f'- rating sebanyak {ratings.rating.isnull().sum()}')\n",
        "print(f'- timestamp sebanyak {ratings.timestamp.isnull().sum()}')"
      ],
      "metadata": {
        "colab": {
          "base_uri": "https://localhost:8080/"
        },
        "id": "_MAUaCcl6McS",
        "outputId": "c6a7a1ac-2551-4de6-dba9-c0132dbfdc61"
      },
      "execution_count": 18,
      "outputs": [
        {
          "output_type": "stream",
          "name": "stdout",
          "text": [
            "Cek Missing Value Pada Variable Dataset Ratings:\n",
            "- userId sebanyak 0\n",
            "- movieId sebanyak 0\n",
            "- rating sebanyak 0\n",
            "- timestamp sebanyak 0\n"
          ]
        }
      ]
    },
    {
      "cell_type": "code",
      "source": [
        "print(f'Cek Duplikasi Dataset Ratings: {ratings.duplicated().sum()} duplikasi')"
      ],
      "metadata": {
        "colab": {
          "base_uri": "https://localhost:8080/"
        },
        "id": "jAVcmXHr6qLu",
        "outputId": "5e5bb7b2-5880-4ff1-ae05-2adbedd8e191"
      },
      "execution_count": 19,
      "outputs": [
        {
          "output_type": "stream",
          "name": "stdout",
          "text": [
            "Cek Duplikasi Dataset Ratings: 0 duplikasi\n"
          ]
        }
      ]
    },
    {
      "cell_type": "code",
      "source": [
        "print(f'Cek Data Unique Pada Variable Dataset Ratings:')\n",
        "print(f'- userId sebanyak {ratings.userId.nunique()}')\n",
        "print(f'- movieId sebanyak {ratings.movieId.nunique()}')\n",
        "print(f'- rating sebanyak {ratings.rating.nunique()}')\n",
        "print(f'- timestamp sebanyak {ratings.timestamp.nunique()}')"
      ],
      "metadata": {
        "colab": {
          "base_uri": "https://localhost:8080/"
        },
        "id": "VnGM_Rza65zU",
        "outputId": "58f9f6f0-b155-4846-d941-9f6ff176e298"
      },
      "execution_count": 20,
      "outputs": [
        {
          "output_type": "stream",
          "name": "stdout",
          "text": [
            "Cek Data Unique Pada Variable Dataset Ratings:\n",
            "- userId sebanyak 610\n",
            "- movieId sebanyak 9724\n",
            "- rating sebanyak 10\n",
            "- timestamp sebanyak 85043\n"
          ]
        }
      ]
    },
    {
      "cell_type": "markdown",
      "source": [
        "# **2. Data Preparation**"
      ],
      "metadata": {
        "id": "yJyuivzjaQmb"
      }
    },
    {
      "cell_type": "markdown",
      "source": [
        "## Pembersihan Missing Value"
      ],
      "metadata": {
        "id": "8Y8WW-wTqCdu"
      }
    },
    {
      "cell_type": "code",
      "source": [
        "movies.dropna(axis=0, inplace=True)\n",
        "ratings.dropna(axis=0, inplace=True)"
      ],
      "metadata": {
        "id": "N3TRTtdG7aqj"
      },
      "execution_count": 21,
      "outputs": []
    },
    {
      "cell_type": "markdown",
      "source": [
        "## Sorting Data Rating Berdasarkan User ID Kemudian Menjadikan integer"
      ],
      "metadata": {
        "id": "PFvhKrsmqOaP"
      }
    },
    {
      "cell_type": "code",
      "source": [
        "ratings = ratings.sort_values('userId').astype('int') "
      ],
      "metadata": {
        "id": "M5WTJA_27bT0"
      },
      "execution_count": 22,
      "outputs": []
    },
    {
      "cell_type": "markdown",
      "source": [
        "## Pembersihan Duplikasi Data "
      ],
      "metadata": {
        "id": "c1pxqrzHqd2g"
      }
    },
    {
      "cell_type": "code",
      "source": [
        "movies.drop_duplicates(subset=['title'], keep='first', inplace=True)\n",
        "ratings.drop_duplicates(subset=['userId','movieId'], keep='first', inplace=True)"
      ],
      "metadata": {
        "id": "C-B_caoy7eJ5"
      },
      "execution_count": 23,
      "outputs": []
    },
    {
      "cell_type": "markdown",
      "source": [
        "## Penggabungan Dataset"
      ],
      "metadata": {
        "id": "Mj9lbK6Jqpg7"
      }
    },
    {
      "cell_type": "code",
      "source": [
        "merge_dataset = pd.merge(ratings, movies, how='left', on='movieId')\n",
        "movierating = merge_dataset.copy().drop('timestamp', axis=1)\n",
        "movierating.head()"
      ],
      "metadata": {
        "colab": {
          "base_uri": "https://localhost:8080/",
          "height": 268
        },
        "id": "97uGUVbb7fyG",
        "outputId": "2c7a5108-6f8b-4d6b-c592-71d2648b0fdc"
      },
      "execution_count": 27,
      "outputs": [
        {
          "output_type": "execute_result",
          "data": {
            "text/plain": [
              "   userId  movieId  rating                                         title  \\\n",
              "0       1        1       4                              Toy Story (1995)   \n",
              "1       1     2329       5                     American History X (1998)   \n",
              "2       1     2338       2  I Still Know What You Did Last Summer (1998)   \n",
              "3       1     2353       5                     Enemy of the State (1998)   \n",
              "4       1     2366       4                              King Kong (1933)   \n",
              "\n",
              "                                        genres  \n",
              "0  Adventure|Animation|Children|Comedy|Fantasy  \n",
              "1                                  Crime|Drama  \n",
              "2                      Horror|Mystery|Thriller  \n",
              "3                              Action|Thriller  \n",
              "4              Action|Adventure|Fantasy|Horror  "
            ],
            "text/html": [
              "\n",
              "  <div id=\"df-9c9e8bd9-df6a-46d9-9bef-af2dd34beb0f\">\n",
              "    <div class=\"colab-df-container\">\n",
              "      <div>\n",
              "<style scoped>\n",
              "    .dataframe tbody tr th:only-of-type {\n",
              "        vertical-align: middle;\n",
              "    }\n",
              "\n",
              "    .dataframe tbody tr th {\n",
              "        vertical-align: top;\n",
              "    }\n",
              "\n",
              "    .dataframe thead th {\n",
              "        text-align: right;\n",
              "    }\n",
              "</style>\n",
              "<table border=\"1\" class=\"dataframe\">\n",
              "  <thead>\n",
              "    <tr style=\"text-align: right;\">\n",
              "      <th></th>\n",
              "      <th>userId</th>\n",
              "      <th>movieId</th>\n",
              "      <th>rating</th>\n",
              "      <th>title</th>\n",
              "      <th>genres</th>\n",
              "    </tr>\n",
              "  </thead>\n",
              "  <tbody>\n",
              "    <tr>\n",
              "      <th>0</th>\n",
              "      <td>1</td>\n",
              "      <td>1</td>\n",
              "      <td>4</td>\n",
              "      <td>Toy Story (1995)</td>\n",
              "      <td>Adventure|Animation|Children|Comedy|Fantasy</td>\n",
              "    </tr>\n",
              "    <tr>\n",
              "      <th>1</th>\n",
              "      <td>1</td>\n",
              "      <td>2329</td>\n",
              "      <td>5</td>\n",
              "      <td>American History X (1998)</td>\n",
              "      <td>Crime|Drama</td>\n",
              "    </tr>\n",
              "    <tr>\n",
              "      <th>2</th>\n",
              "      <td>1</td>\n",
              "      <td>2338</td>\n",
              "      <td>2</td>\n",
              "      <td>I Still Know What You Did Last Summer (1998)</td>\n",
              "      <td>Horror|Mystery|Thriller</td>\n",
              "    </tr>\n",
              "    <tr>\n",
              "      <th>3</th>\n",
              "      <td>1</td>\n",
              "      <td>2353</td>\n",
              "      <td>5</td>\n",
              "      <td>Enemy of the State (1998)</td>\n",
              "      <td>Action|Thriller</td>\n",
              "    </tr>\n",
              "    <tr>\n",
              "      <th>4</th>\n",
              "      <td>1</td>\n",
              "      <td>2366</td>\n",
              "      <td>4</td>\n",
              "      <td>King Kong (1933)</td>\n",
              "      <td>Action|Adventure|Fantasy|Horror</td>\n",
              "    </tr>\n",
              "  </tbody>\n",
              "</table>\n",
              "</div>\n",
              "      <button class=\"colab-df-convert\" onclick=\"convertToInteractive('df-9c9e8bd9-df6a-46d9-9bef-af2dd34beb0f')\"\n",
              "              title=\"Convert this dataframe to an interactive table.\"\n",
              "              style=\"display:none;\">\n",
              "        \n",
              "  <svg xmlns=\"http://www.w3.org/2000/svg\" height=\"24px\"viewBox=\"0 0 24 24\"\n",
              "       width=\"24px\">\n",
              "    <path d=\"M0 0h24v24H0V0z\" fill=\"none\"/>\n",
              "    <path d=\"M18.56 5.44l.94 2.06.94-2.06 2.06-.94-2.06-.94-.94-2.06-.94 2.06-2.06.94zm-11 1L8.5 8.5l.94-2.06 2.06-.94-2.06-.94L8.5 2.5l-.94 2.06-2.06.94zm10 10l.94 2.06.94-2.06 2.06-.94-2.06-.94-.94-2.06-.94 2.06-2.06.94z\"/><path d=\"M17.41 7.96l-1.37-1.37c-.4-.4-.92-.59-1.43-.59-.52 0-1.04.2-1.43.59L10.3 9.45l-7.72 7.72c-.78.78-.78 2.05 0 2.83L4 21.41c.39.39.9.59 1.41.59.51 0 1.02-.2 1.41-.59l7.78-7.78 2.81-2.81c.8-.78.8-2.07 0-2.86zM5.41 20L4 18.59l7.72-7.72 1.47 1.35L5.41 20z\"/>\n",
              "  </svg>\n",
              "      </button>\n",
              "      \n",
              "  <style>\n",
              "    .colab-df-container {\n",
              "      display:flex;\n",
              "      flex-wrap:wrap;\n",
              "      gap: 12px;\n",
              "    }\n",
              "\n",
              "    .colab-df-convert {\n",
              "      background-color: #E8F0FE;\n",
              "      border: none;\n",
              "      border-radius: 50%;\n",
              "      cursor: pointer;\n",
              "      display: none;\n",
              "      fill: #1967D2;\n",
              "      height: 32px;\n",
              "      padding: 0 0 0 0;\n",
              "      width: 32px;\n",
              "    }\n",
              "\n",
              "    .colab-df-convert:hover {\n",
              "      background-color: #E2EBFA;\n",
              "      box-shadow: 0px 1px 2px rgba(60, 64, 67, 0.3), 0px 1px 3px 1px rgba(60, 64, 67, 0.15);\n",
              "      fill: #174EA6;\n",
              "    }\n",
              "\n",
              "    [theme=dark] .colab-df-convert {\n",
              "      background-color: #3B4455;\n",
              "      fill: #D2E3FC;\n",
              "    }\n",
              "\n",
              "    [theme=dark] .colab-df-convert:hover {\n",
              "      background-color: #434B5C;\n",
              "      box-shadow: 0px 1px 3px 1px rgba(0, 0, 0, 0.15);\n",
              "      filter: drop-shadow(0px 1px 2px rgba(0, 0, 0, 0.3));\n",
              "      fill: #FFFFFF;\n",
              "    }\n",
              "  </style>\n",
              "\n",
              "      <script>\n",
              "        const buttonEl =\n",
              "          document.querySelector('#df-9c9e8bd9-df6a-46d9-9bef-af2dd34beb0f button.colab-df-convert');\n",
              "        buttonEl.style.display =\n",
              "          google.colab.kernel.accessAllowed ? 'block' : 'none';\n",
              "\n",
              "        async function convertToInteractive(key) {\n",
              "          const element = document.querySelector('#df-9c9e8bd9-df6a-46d9-9bef-af2dd34beb0f');\n",
              "          const dataTable =\n",
              "            await google.colab.kernel.invokeFunction('convertToInteractive',\n",
              "                                                     [key], {});\n",
              "          if (!dataTable) return;\n",
              "\n",
              "          const docLinkHtml = 'Like what you see? Visit the ' +\n",
              "            '<a target=\"_blank\" href=https://colab.research.google.com/notebooks/data_table.ipynb>data table notebook</a>'\n",
              "            + ' to learn more about interactive tables.';\n",
              "          element.innerHTML = '';\n",
              "          dataTable['output_type'] = 'display_data';\n",
              "          await google.colab.output.renderOutput(dataTable, element);\n",
              "          const docLink = document.createElement('div');\n",
              "          docLink.innerHTML = docLinkHtml;\n",
              "          element.appendChild(docLink);\n",
              "        }\n",
              "      </script>\n",
              "    </div>\n",
              "  </div>\n",
              "  "
            ]
          },
          "metadata": {},
          "execution_count": 27
        }
      ]
    },
    {
      "cell_type": "markdown",
      "source": [
        "menghapus missing values setelah dataset digabungkan"
      ],
      "metadata": {
        "id": "DJhmtf_TtCE_"
      }
    },
    {
      "cell_type": "code",
      "source": [
        "movierating = movierating[~pd.isnull(movierating['genres'])]\n",
        "\n",
        "print(f'Setelah menggabungkan dataset dan menghapus missing values didapatkan sebanyak:')\n",
        "print(f'- {movierating.shape[0]} baris data')\n",
        "print(f'- {movierating.shape[1]} kolom / variable')\n"
      ],
      "metadata": {
        "colab": {
          "base_uri": "https://localhost:8080/"
        },
        "id": "nnIbj8ZL7jtg",
        "outputId": "c8a3f3c7-7a7c-4bc6-aa0b-057331677fac"
      },
      "execution_count": 30,
      "outputs": [
        {
          "output_type": "stream",
          "name": "stdout",
          "text": [
            "Setelah menggabungkan dataset dan menghapus missing values didapatkan sebanyak:\n",
            "- 100830 baris data\n",
            "- 5 kolom / variable\n"
          ]
        }
      ]
    },
    {
      "cell_type": "markdown",
      "source": [
        "# **3. Model Development**"
      ],
      "metadata": {
        "id": "j_x6b8KIu9Lj"
      }
    },
    {
      "cell_type": "markdown",
      "source": [
        "- # **Content Based Filtering**"
      ],
      "metadata": {
        "id": "w1XmJ3IcvDyB"
      }
    },
    {
      "cell_type": "markdown",
      "source": [
        "**TF- IDF Vectorizer** \n",
        "melakukan inisialisasi TfidfVectorizer, kemudian perhitungan idf pada data film dan melakukan array dari fitur index integer ke fitur nama\n"
      ],
      "metadata": {
        "id": "QIDvEBqXvQaB"
      }
    },
    {
      "cell_type": "code",
      "source": [
        "tfid = TfidfVectorizer(stop_words='english')\n",
        "tfid.fit(movies['genres'])\n",
        "tfid.get_feature_names()"
      ],
      "metadata": {
        "colab": {
          "base_uri": "https://localhost:8080/"
        },
        "id": "txUcxCxa7oPc",
        "outputId": "1f14c5fc-920b-429f-b005-07d41e7c6f02"
      },
      "execution_count": 31,
      "outputs": [
        {
          "output_type": "stream",
          "name": "stderr",
          "text": [
            "/usr/local/lib/python3.8/dist-packages/sklearn/utils/deprecation.py:87: FutureWarning: Function get_feature_names is deprecated; get_feature_names is deprecated in 1.0 and will be removed in 1.2. Please use get_feature_names_out instead.\n",
            "  warnings.warn(msg, category=FutureWarning)\n"
          ]
        },
        {
          "output_type": "execute_result",
          "data": {
            "text/plain": [
              "['action',\n",
              " 'adventure',\n",
              " 'animation',\n",
              " 'children',\n",
              " 'comedy',\n",
              " 'crime',\n",
              " 'documentary',\n",
              " 'drama',\n",
              " 'fantasy',\n",
              " 'fi',\n",
              " 'film',\n",
              " 'genres',\n",
              " 'horror',\n",
              " 'imax',\n",
              " 'listed',\n",
              " 'musical',\n",
              " 'mystery',\n",
              " 'noir',\n",
              " 'romance',\n",
              " 'sci',\n",
              " 'thriller',\n",
              " 'war',\n",
              " 'western']"
            ]
          },
          "metadata": {},
          "execution_count": 31
        }
      ]
    },
    {
      "cell_type": "markdown",
      "source": [
        "**Transform Data Film Pada Kolom Genres ke bentuk vektor Matrix**"
      ],
      "metadata": {
        "id": "JtoWgkZKw9A8"
      }
    },
    {
      "cell_type": "code",
      "source": [
        "tfidf_matrix = tfid.fit_transform(movies['genres']) \n",
        "tfidf_matrix.shape"
      ],
      "metadata": {
        "colab": {
          "base_uri": "https://localhost:8080/"
        },
        "id": "8vwVrrf37ql4",
        "outputId": "f13f0da5-bea5-47e7-def8-0480796fa45e"
      },
      "execution_count": 32,
      "outputs": [
        {
          "output_type": "execute_result",
          "data": {
            "text/plain": [
              "(9737, 23)"
            ]
          },
          "metadata": {},
          "execution_count": 32
        }
      ]
    },
    {
      "cell_type": "markdown",
      "source": [
        "**Menghitung Cosine Similarity**"
      ],
      "metadata": {
        "id": "CPT_gLlrxEof"
      }
    },
    {
      "cell_type": "code",
      "source": [
        "cosim = cosine_similarity(tfidf_matrix)\n",
        "cosim"
      ],
      "metadata": {
        "colab": {
          "base_uri": "https://localhost:8080/"
        },
        "id": "nTTevfFl7rK_",
        "outputId": "a343af5d-0001-4930-8bbb-5e990491e012"
      },
      "execution_count": 33,
      "outputs": [
        {
          "output_type": "execute_result",
          "data": {
            "text/plain": [
              "array([[1.        , 0.81357359, 0.15270879, ..., 0.        , 0.42101966,\n",
              "        0.2675912 ],\n",
              "       [0.81357359, 1.        , 0.        , ..., 0.        , 0.        ,\n",
              "        0.        ],\n",
              "       [0.15270879, 0.        , 1.        , ..., 0.        , 0.        ,\n",
              "        0.57067944],\n",
              "       ...,\n",
              "       [0.        , 0.        , 0.        , ..., 1.        , 0.        ,\n",
              "        0.        ],\n",
              "       [0.42101966, 0.        , 0.        , ..., 0.        , 1.        ,\n",
              "        0.        ],\n",
              "       [0.2675912 , 0.        , 0.57067944, ..., 0.        , 0.        ,\n",
              "        1.        ]])"
            ]
          },
          "metadata": {},
          "execution_count": 33
        }
      ]
    },
    {
      "cell_type": "markdown",
      "source": [
        "**Dataframe baru berdasarkan Cosine Similarity**"
      ],
      "metadata": {
        "id": "00PXorgFygGC"
      }
    },
    {
      "cell_type": "code",
      "source": [
        "cosim_df = pd.DataFrame(cosim, index=movies['title'], columns=movies['title'])\n",
        "print('Shape:', cosim_df.shape)\n",
        "cosim_df.sample(10, axis=1).sample(10, axis=0)"
      ],
      "metadata": {
        "colab": {
          "base_uri": "https://localhost:8080/",
          "height": 1000
        },
        "id": "iipSgdQu7sy-",
        "outputId": "aba9f093-5074-40b3-c7b2-4ba64fe17bd8"
      },
      "execution_count": 34,
      "outputs": [
        {
          "output_type": "stream",
          "name": "stdout",
          "text": [
            "Shape: (9737, 9737)\n"
          ]
        },
        {
          "output_type": "execute_result",
          "data": {
            "text/plain": [
              "title                                               Blue Crush (2002)  \\\n",
              "title                                                                   \n",
              "Chorus, The (Choristes, Les) (2004)                          0.399315   \n",
              "Performance (1970)                                           0.161902   \n",
              "Yearling, The (1946)                                         0.175579   \n",
              "Tuskegee Airmen, The (1995)                                  0.156436   \n",
              "Requiem for a Heavyweight (1962)                             0.399315   \n",
              "Fireworks, Should We See It from the Side or th...           0.000000   \n",
              "Babylon 5: The Legend of the Rangers: To Live a...           0.000000   \n",
              "Tron: Legacy (2010)                                          0.255458   \n",
              "The Brothers Grimsby (2016)                                  0.000000   \n",
              "Morons From Outer Space (1985)                               0.000000   \n",
              "\n",
              "title                                               High Society (1956)  \\\n",
              "title                                                                     \n",
              "Chorus, The (Choristes, Les) (2004)                            0.000000   \n",
              "Performance (1970)                                             0.000000   \n",
              "Yearling, The (1946)                                           0.000000   \n",
              "Tuskegee Airmen, The (1995)                                    0.000000   \n",
              "Requiem for a Heavyweight (1962)                               0.000000   \n",
              "Fireworks, Should We See It from the Side or th...             0.000000   \n",
              "Babylon 5: The Legend of the Rangers: To Live a...             0.000000   \n",
              "Tron: Legacy (2010)                                            0.000000   \n",
              "The Brothers Grimsby (2016)                                    0.351838   \n",
              "Morons From Outer Space (1985)                                 0.135901   \n",
              "\n",
              "title                                               Once Bitten (1985)  \\\n",
              "title                                                                    \n",
              "Chorus, The (Choristes, Les) (2004)                           0.000000   \n",
              "Performance (1970)                                            0.000000   \n",
              "Yearling, The (1946)                                          0.000000   \n",
              "Tuskegee Airmen, The (1995)                                   0.000000   \n",
              "Requiem for a Heavyweight (1962)                              0.000000   \n",
              "Fireworks, Should We See It from the Side or th...            0.000000   \n",
              "Babylon 5: The Legend of the Rangers: To Live a...            0.000000   \n",
              "Tron: Legacy (2010)                                           0.000000   \n",
              "The Brothers Grimsby (2016)                                   0.509561   \n",
              "Morons From Outer Space (1985)                                0.196822   \n",
              "\n",
              "title                                               Onion Movie, The (2008)  \\\n",
              "title                                                                         \n",
              "Chorus, The (Choristes, Les) (2004)                                0.000000   \n",
              "Performance (1970)                                                 0.000000   \n",
              "Yearling, The (1946)                                               0.000000   \n",
              "Tuskegee Airmen, The (1995)                                        0.000000   \n",
              "Requiem for a Heavyweight (1962)                                   0.000000   \n",
              "Fireworks, Should We See It from the Side or th...                 0.000000   \n",
              "Babylon 5: The Legend of the Rangers: To Live a...                 0.000000   \n",
              "Tron: Legacy (2010)                                                0.000000   \n",
              "The Brothers Grimsby (2016)                                        1.000000   \n",
              "Morons From Outer Space (1985)                                     0.386259   \n",
              "\n",
              "title                                               God's Not Dead (2014)  \\\n",
              "title                                                                       \n",
              "Chorus, The (Choristes, Les) (2004)                              1.000000   \n",
              "Performance (1970)                                               0.405449   \n",
              "Yearling, The (1946)                                             0.439701   \n",
              "Tuskegee Airmen, The (1995)                                      0.391760   \n",
              "Requiem for a Heavyweight (1962)                                 1.000000   \n",
              "Fireworks, Should We See It from the Side or th...               0.000000   \n",
              "Babylon 5: The Legend of the Rangers: To Live a...               0.000000   \n",
              "Tron: Legacy (2010)                                              0.000000   \n",
              "The Brothers Grimsby (2016)                                      0.000000   \n",
              "Morons From Outer Space (1985)                                   0.000000   \n",
              "\n",
              "title                                               Teacher's Pet (1958)  \\\n",
              "title                                                                      \n",
              "Chorus, The (Choristes, Les) (2004)                             0.000000   \n",
              "Performance (1970)                                              0.000000   \n",
              "Yearling, The (1946)                                            0.000000   \n",
              "Tuskegee Airmen, The (1995)                                     0.000000   \n",
              "Requiem for a Heavyweight (1962)                                0.000000   \n",
              "Fireworks, Should We See It from the Side or th...              0.000000   \n",
              "Babylon 5: The Legend of the Rangers: To Live a...              0.000000   \n",
              "Tron: Legacy (2010)                                             0.000000   \n",
              "The Brothers Grimsby (2016)                                     0.570679   \n",
              "Morons From Outer Space (1985)                                  0.220430   \n",
              "\n",
              "title                                               Maniac Cop (1988)  \\\n",
              "title                                                                   \n",
              "Chorus, The (Choristes, Les) (2004)                          0.000000   \n",
              "Performance (1970)                                           0.632371   \n",
              "Yearling, The (1946)                                         0.000000   \n",
              "Tuskegee Airmen, The (1995)                                  0.000000   \n",
              "Requiem for a Heavyweight (1962)                             0.000000   \n",
              "Fireworks, Should We See It from the Side or th...           0.000000   \n",
              "Babylon 5: The Legend of the Rangers: To Live a...           0.000000   \n",
              "Tron: Legacy (2010)                                          0.151565   \n",
              "The Brothers Grimsby (2016)                                  0.000000   \n",
              "Morons From Outer Space (1985)                               0.000000   \n",
              "\n",
              "title                                               General's Daughter, The (1999)  \\\n",
              "title                                                                                \n",
              "Chorus, The (Choristes, Les) (2004)                                       0.307214   \n",
              "Performance (1970)                                                        0.757712   \n",
              "Yearling, The (1946)                                                      0.135082   \n",
              "Tuskegee Airmen, The (1995)                                               0.120354   \n",
              "Requiem for a Heavyweight (1962)                                          0.307214   \n",
              "Fireworks, Should We See It from the Side or th...                        0.000000   \n",
              "Babylon 5: The Legend of the Rangers: To Live a...                        0.000000   \n",
              "Tron: Legacy (2010)                                                       0.000000   \n",
              "The Brothers Grimsby (2016)                                               0.000000   \n",
              "Morons From Outer Space (1985)                                            0.000000   \n",
              "\n",
              "title                                               RocketMan (a.k.a. Rocket Man) (1997)  \\\n",
              "title                                                                                      \n",
              "Chorus, The (Choristes, Les) (2004)                                             0.000000   \n",
              "Performance (1970)                                                              0.000000   \n",
              "Yearling, The (1946)                                                            0.482512   \n",
              "Tuskegee Airmen, The (1995)                                                     0.000000   \n",
              "Requiem for a Heavyweight (1962)                                                0.000000   \n",
              "Fireworks, Should We See It from the Side or th...                              0.000000   \n",
              "Babylon 5: The Legend of the Rangers: To Live a...                              0.680002   \n",
              "Tron: Legacy (2010)                                                             0.395426   \n",
              "The Brothers Grimsby (2016)                                                     0.284756   \n",
              "Morons From Outer Space (1985)                                                  0.737217   \n",
              "\n",
              "title                                               Eagle Has Landed, The (1976)  \n",
              "title                                                                             \n",
              "Chorus, The (Choristes, Les) (2004)                                     0.391760  \n",
              "Performance (1970)                                                      0.158839  \n",
              "Yearling, The (1946)                                                    0.172257  \n",
              "Tuskegee Airmen, The (1995)                                             1.000000  \n",
              "Requiem for a Heavyweight (1962)                                        0.391760  \n",
              "Fireworks, Should We See It from the Side or th...                      0.000000  \n",
              "Babylon 5: The Legend of the Rangers: To Live a...                      0.000000  \n",
              "Tron: Legacy (2010)                                                     0.000000  \n",
              "The Brothers Grimsby (2016)                                             0.000000  \n",
              "Morons From Outer Space (1985)                                          0.000000  "
            ],
            "text/html": [
              "\n",
              "  <div id=\"df-1189a0bc-e6c5-429e-9b60-c21d0ef4b7d9\">\n",
              "    <div class=\"colab-df-container\">\n",
              "      <div>\n",
              "<style scoped>\n",
              "    .dataframe tbody tr th:only-of-type {\n",
              "        vertical-align: middle;\n",
              "    }\n",
              "\n",
              "    .dataframe tbody tr th {\n",
              "        vertical-align: top;\n",
              "    }\n",
              "\n",
              "    .dataframe thead th {\n",
              "        text-align: right;\n",
              "    }\n",
              "</style>\n",
              "<table border=\"1\" class=\"dataframe\">\n",
              "  <thead>\n",
              "    <tr style=\"text-align: right;\">\n",
              "      <th>title</th>\n",
              "      <th>Blue Crush (2002)</th>\n",
              "      <th>High Society (1956)</th>\n",
              "      <th>Once Bitten (1985)</th>\n",
              "      <th>Onion Movie, The (2008)</th>\n",
              "      <th>God's Not Dead (2014)</th>\n",
              "      <th>Teacher's Pet (1958)</th>\n",
              "      <th>Maniac Cop (1988)</th>\n",
              "      <th>General's Daughter, The (1999)</th>\n",
              "      <th>RocketMan (a.k.a. Rocket Man) (1997)</th>\n",
              "      <th>Eagle Has Landed, The (1976)</th>\n",
              "    </tr>\n",
              "    <tr>\n",
              "      <th>title</th>\n",
              "      <th></th>\n",
              "      <th></th>\n",
              "      <th></th>\n",
              "      <th></th>\n",
              "      <th></th>\n",
              "      <th></th>\n",
              "      <th></th>\n",
              "      <th></th>\n",
              "      <th></th>\n",
              "      <th></th>\n",
              "    </tr>\n",
              "  </thead>\n",
              "  <tbody>\n",
              "    <tr>\n",
              "      <th>Chorus, The (Choristes, Les) (2004)</th>\n",
              "      <td>0.399315</td>\n",
              "      <td>0.000000</td>\n",
              "      <td>0.000000</td>\n",
              "      <td>0.000000</td>\n",
              "      <td>1.000000</td>\n",
              "      <td>0.000000</td>\n",
              "      <td>0.000000</td>\n",
              "      <td>0.307214</td>\n",
              "      <td>0.000000</td>\n",
              "      <td>0.391760</td>\n",
              "    </tr>\n",
              "    <tr>\n",
              "      <th>Performance (1970)</th>\n",
              "      <td>0.161902</td>\n",
              "      <td>0.000000</td>\n",
              "      <td>0.000000</td>\n",
              "      <td>0.000000</td>\n",
              "      <td>0.405449</td>\n",
              "      <td>0.000000</td>\n",
              "      <td>0.632371</td>\n",
              "      <td>0.757712</td>\n",
              "      <td>0.000000</td>\n",
              "      <td>0.158839</td>\n",
              "    </tr>\n",
              "    <tr>\n",
              "      <th>Yearling, The (1946)</th>\n",
              "      <td>0.175579</td>\n",
              "      <td>0.000000</td>\n",
              "      <td>0.000000</td>\n",
              "      <td>0.000000</td>\n",
              "      <td>0.439701</td>\n",
              "      <td>0.000000</td>\n",
              "      <td>0.000000</td>\n",
              "      <td>0.135082</td>\n",
              "      <td>0.482512</td>\n",
              "      <td>0.172257</td>\n",
              "    </tr>\n",
              "    <tr>\n",
              "      <th>Tuskegee Airmen, The (1995)</th>\n",
              "      <td>0.156436</td>\n",
              "      <td>0.000000</td>\n",
              "      <td>0.000000</td>\n",
              "      <td>0.000000</td>\n",
              "      <td>0.391760</td>\n",
              "      <td>0.000000</td>\n",
              "      <td>0.000000</td>\n",
              "      <td>0.120354</td>\n",
              "      <td>0.000000</td>\n",
              "      <td>1.000000</td>\n",
              "    </tr>\n",
              "    <tr>\n",
              "      <th>Requiem for a Heavyweight (1962)</th>\n",
              "      <td>0.399315</td>\n",
              "      <td>0.000000</td>\n",
              "      <td>0.000000</td>\n",
              "      <td>0.000000</td>\n",
              "      <td>1.000000</td>\n",
              "      <td>0.000000</td>\n",
              "      <td>0.000000</td>\n",
              "      <td>0.307214</td>\n",
              "      <td>0.000000</td>\n",
              "      <td>0.391760</td>\n",
              "    </tr>\n",
              "    <tr>\n",
              "      <th>Fireworks, Should We See It from the Side or the Bottom? (2017)</th>\n",
              "      <td>0.000000</td>\n",
              "      <td>0.000000</td>\n",
              "      <td>0.000000</td>\n",
              "      <td>0.000000</td>\n",
              "      <td>0.000000</td>\n",
              "      <td>0.000000</td>\n",
              "      <td>0.000000</td>\n",
              "      <td>0.000000</td>\n",
              "      <td>0.000000</td>\n",
              "      <td>0.000000</td>\n",
              "    </tr>\n",
              "    <tr>\n",
              "      <th>Babylon 5: The Legend of the Rangers: To Live and Die in Starlight (2002)</th>\n",
              "      <td>0.000000</td>\n",
              "      <td>0.000000</td>\n",
              "      <td>0.000000</td>\n",
              "      <td>0.000000</td>\n",
              "      <td>0.000000</td>\n",
              "      <td>0.000000</td>\n",
              "      <td>0.000000</td>\n",
              "      <td>0.000000</td>\n",
              "      <td>0.680002</td>\n",
              "      <td>0.000000</td>\n",
              "    </tr>\n",
              "    <tr>\n",
              "      <th>Tron: Legacy (2010)</th>\n",
              "      <td>0.255458</td>\n",
              "      <td>0.000000</td>\n",
              "      <td>0.000000</td>\n",
              "      <td>0.000000</td>\n",
              "      <td>0.000000</td>\n",
              "      <td>0.000000</td>\n",
              "      <td>0.151565</td>\n",
              "      <td>0.000000</td>\n",
              "      <td>0.395426</td>\n",
              "      <td>0.000000</td>\n",
              "    </tr>\n",
              "    <tr>\n",
              "      <th>The Brothers Grimsby (2016)</th>\n",
              "      <td>0.000000</td>\n",
              "      <td>0.351838</td>\n",
              "      <td>0.509561</td>\n",
              "      <td>1.000000</td>\n",
              "      <td>0.000000</td>\n",
              "      <td>0.570679</td>\n",
              "      <td>0.000000</td>\n",
              "      <td>0.000000</td>\n",
              "      <td>0.284756</td>\n",
              "      <td>0.000000</td>\n",
              "    </tr>\n",
              "    <tr>\n",
              "      <th>Morons From Outer Space (1985)</th>\n",
              "      <td>0.000000</td>\n",
              "      <td>0.135901</td>\n",
              "      <td>0.196822</td>\n",
              "      <td>0.386259</td>\n",
              "      <td>0.000000</td>\n",
              "      <td>0.220430</td>\n",
              "      <td>0.000000</td>\n",
              "      <td>0.000000</td>\n",
              "      <td>0.737217</td>\n",
              "      <td>0.000000</td>\n",
              "    </tr>\n",
              "  </tbody>\n",
              "</table>\n",
              "</div>\n",
              "      <button class=\"colab-df-convert\" onclick=\"convertToInteractive('df-1189a0bc-e6c5-429e-9b60-c21d0ef4b7d9')\"\n",
              "              title=\"Convert this dataframe to an interactive table.\"\n",
              "              style=\"display:none;\">\n",
              "        \n",
              "  <svg xmlns=\"http://www.w3.org/2000/svg\" height=\"24px\"viewBox=\"0 0 24 24\"\n",
              "       width=\"24px\">\n",
              "    <path d=\"M0 0h24v24H0V0z\" fill=\"none\"/>\n",
              "    <path d=\"M18.56 5.44l.94 2.06.94-2.06 2.06-.94-2.06-.94-.94-2.06-.94 2.06-2.06.94zm-11 1L8.5 8.5l.94-2.06 2.06-.94-2.06-.94L8.5 2.5l-.94 2.06-2.06.94zm10 10l.94 2.06.94-2.06 2.06-.94-2.06-.94-.94-2.06-.94 2.06-2.06.94z\"/><path d=\"M17.41 7.96l-1.37-1.37c-.4-.4-.92-.59-1.43-.59-.52 0-1.04.2-1.43.59L10.3 9.45l-7.72 7.72c-.78.78-.78 2.05 0 2.83L4 21.41c.39.39.9.59 1.41.59.51 0 1.02-.2 1.41-.59l7.78-7.78 2.81-2.81c.8-.78.8-2.07 0-2.86zM5.41 20L4 18.59l7.72-7.72 1.47 1.35L5.41 20z\"/>\n",
              "  </svg>\n",
              "      </button>\n",
              "      \n",
              "  <style>\n",
              "    .colab-df-container {\n",
              "      display:flex;\n",
              "      flex-wrap:wrap;\n",
              "      gap: 12px;\n",
              "    }\n",
              "\n",
              "    .colab-df-convert {\n",
              "      background-color: #E8F0FE;\n",
              "      border: none;\n",
              "      border-radius: 50%;\n",
              "      cursor: pointer;\n",
              "      display: none;\n",
              "      fill: #1967D2;\n",
              "      height: 32px;\n",
              "      padding: 0 0 0 0;\n",
              "      width: 32px;\n",
              "    }\n",
              "\n",
              "    .colab-df-convert:hover {\n",
              "      background-color: #E2EBFA;\n",
              "      box-shadow: 0px 1px 2px rgba(60, 64, 67, 0.3), 0px 1px 3px 1px rgba(60, 64, 67, 0.15);\n",
              "      fill: #174EA6;\n",
              "    }\n",
              "\n",
              "    [theme=dark] .colab-df-convert {\n",
              "      background-color: #3B4455;\n",
              "      fill: #D2E3FC;\n",
              "    }\n",
              "\n",
              "    [theme=dark] .colab-df-convert:hover {\n",
              "      background-color: #434B5C;\n",
              "      box-shadow: 0px 1px 3px 1px rgba(0, 0, 0, 0.15);\n",
              "      filter: drop-shadow(0px 1px 2px rgba(0, 0, 0, 0.3));\n",
              "      fill: #FFFFFF;\n",
              "    }\n",
              "  </style>\n",
              "\n",
              "      <script>\n",
              "        const buttonEl =\n",
              "          document.querySelector('#df-1189a0bc-e6c5-429e-9b60-c21d0ef4b7d9 button.colab-df-convert');\n",
              "        buttonEl.style.display =\n",
              "          google.colab.kernel.accessAllowed ? 'block' : 'none';\n",
              "\n",
              "        async function convertToInteractive(key) {\n",
              "          const element = document.querySelector('#df-1189a0bc-e6c5-429e-9b60-c21d0ef4b7d9');\n",
              "          const dataTable =\n",
              "            await google.colab.kernel.invokeFunction('convertToInteractive',\n",
              "                                                     [key], {});\n",
              "          if (!dataTable) return;\n",
              "\n",
              "          const docLinkHtml = 'Like what you see? Visit the ' +\n",
              "            '<a target=\"_blank\" href=https://colab.research.google.com/notebooks/data_table.ipynb>data table notebook</a>'\n",
              "            + ' to learn more about interactive tables.';\n",
              "          element.innerHTML = '';\n",
              "          dataTable['output_type'] = 'display_data';\n",
              "          await google.colab.output.renderOutput(dataTable, element);\n",
              "          const docLink = document.createElement('div');\n",
              "          docLink.innerHTML = docLinkHtml;\n",
              "          element.appendChild(docLink);\n",
              "        }\n",
              "      </script>\n",
              "    </div>\n",
              "  </div>\n",
              "  "
            ]
          },
          "metadata": {},
          "execution_count": 34
        }
      ]
    },
    {
      "cell_type": "markdown",
      "source": [
        "dari hasil diatas didapatkan similarity matrix pada setiap film"
      ],
      "metadata": {
        "id": "Aip6Ed77znsr"
      }
    },
    {
      "cell_type": "markdown",
      "source": [
        "## **Test Model Recommendation Content Based Filtering**\n"
      ],
      "metadata": {
        "id": "SikSfHrW0JkK"
      }
    },
    {
      "cell_type": "markdown",
      "source": [
        "pendefinisian fungsi movie_recom untuk menampilkan hasil rekomendasi film berdasarkan kesamaan genre dari satu judul film"
      ],
      "metadata": {
        "id": "Mcn5Htif1PuS"
      }
    },
    {
      "cell_type": "code",
      "source": [
        "def movie_recom(movies_title, \n",
        "                         similarity_data=cosim_df, \n",
        "                         items=movies[['movieId','title','genres']],\n",
        "                         k=10):\n",
        "   \n",
        "    index = similarity_data.loc[:, movies_title].to_numpy().argpartition(\n",
        "        range(-1, -k, -1)\n",
        "    )\n",
        "\n",
        "    closest = similarity_data.columns[index[-1:-(k+2):-1]]\n",
        "\n",
        "    closest = closest.drop(movies_title, errors='ignore')\n",
        "\n",
        "    return pd.DataFrame(closest).merge(items).head(k)"
      ],
      "metadata": {
        "id": "1H7piDNw7wjS"
      },
      "execution_count": 38,
      "outputs": []
    },
    {
      "cell_type": "code",
      "source": [
        "find_movie = movies[movies['title'] == 'American History X (1998)']\n",
        "find_movie"
      ],
      "metadata": {
        "colab": {
          "base_uri": "https://localhost:8080/",
          "height": 81
        },
        "id": "9Ic4-NUt71Uo",
        "outputId": "29e7a5f5-1870-4a0a-de1c-c6424c0eed31"
      },
      "execution_count": 43,
      "outputs": [
        {
          "output_type": "execute_result",
          "data": {
            "text/plain": [
              "      movieId                      title       genres\n",
              "1734     2329  American History X (1998)  Crime|Drama"
            ],
            "text/html": [
              "\n",
              "  <div id=\"df-a092439a-e659-43b2-a1cb-5a1f05243dcf\">\n",
              "    <div class=\"colab-df-container\">\n",
              "      <div>\n",
              "<style scoped>\n",
              "    .dataframe tbody tr th:only-of-type {\n",
              "        vertical-align: middle;\n",
              "    }\n",
              "\n",
              "    .dataframe tbody tr th {\n",
              "        vertical-align: top;\n",
              "    }\n",
              "\n",
              "    .dataframe thead th {\n",
              "        text-align: right;\n",
              "    }\n",
              "</style>\n",
              "<table border=\"1\" class=\"dataframe\">\n",
              "  <thead>\n",
              "    <tr style=\"text-align: right;\">\n",
              "      <th></th>\n",
              "      <th>movieId</th>\n",
              "      <th>title</th>\n",
              "      <th>genres</th>\n",
              "    </tr>\n",
              "  </thead>\n",
              "  <tbody>\n",
              "    <tr>\n",
              "      <th>1734</th>\n",
              "      <td>2329</td>\n",
              "      <td>American History X (1998)</td>\n",
              "      <td>Crime|Drama</td>\n",
              "    </tr>\n",
              "  </tbody>\n",
              "</table>\n",
              "</div>\n",
              "      <button class=\"colab-df-convert\" onclick=\"convertToInteractive('df-a092439a-e659-43b2-a1cb-5a1f05243dcf')\"\n",
              "              title=\"Convert this dataframe to an interactive table.\"\n",
              "              style=\"display:none;\">\n",
              "        \n",
              "  <svg xmlns=\"http://www.w3.org/2000/svg\" height=\"24px\"viewBox=\"0 0 24 24\"\n",
              "       width=\"24px\">\n",
              "    <path d=\"M0 0h24v24H0V0z\" fill=\"none\"/>\n",
              "    <path d=\"M18.56 5.44l.94 2.06.94-2.06 2.06-.94-2.06-.94-.94-2.06-.94 2.06-2.06.94zm-11 1L8.5 8.5l.94-2.06 2.06-.94-2.06-.94L8.5 2.5l-.94 2.06-2.06.94zm10 10l.94 2.06.94-2.06 2.06-.94-2.06-.94-.94-2.06-.94 2.06-2.06.94z\"/><path d=\"M17.41 7.96l-1.37-1.37c-.4-.4-.92-.59-1.43-.59-.52 0-1.04.2-1.43.59L10.3 9.45l-7.72 7.72c-.78.78-.78 2.05 0 2.83L4 21.41c.39.39.9.59 1.41.59.51 0 1.02-.2 1.41-.59l7.78-7.78 2.81-2.81c.8-.78.8-2.07 0-2.86zM5.41 20L4 18.59l7.72-7.72 1.47 1.35L5.41 20z\"/>\n",
              "  </svg>\n",
              "      </button>\n",
              "      \n",
              "  <style>\n",
              "    .colab-df-container {\n",
              "      display:flex;\n",
              "      flex-wrap:wrap;\n",
              "      gap: 12px;\n",
              "    }\n",
              "\n",
              "    .colab-df-convert {\n",
              "      background-color: #E8F0FE;\n",
              "      border: none;\n",
              "      border-radius: 50%;\n",
              "      cursor: pointer;\n",
              "      display: none;\n",
              "      fill: #1967D2;\n",
              "      height: 32px;\n",
              "      padding: 0 0 0 0;\n",
              "      width: 32px;\n",
              "    }\n",
              "\n",
              "    .colab-df-convert:hover {\n",
              "      background-color: #E2EBFA;\n",
              "      box-shadow: 0px 1px 2px rgba(60, 64, 67, 0.3), 0px 1px 3px 1px rgba(60, 64, 67, 0.15);\n",
              "      fill: #174EA6;\n",
              "    }\n",
              "\n",
              "    [theme=dark] .colab-df-convert {\n",
              "      background-color: #3B4455;\n",
              "      fill: #D2E3FC;\n",
              "    }\n",
              "\n",
              "    [theme=dark] .colab-df-convert:hover {\n",
              "      background-color: #434B5C;\n",
              "      box-shadow: 0px 1px 3px 1px rgba(0, 0, 0, 0.15);\n",
              "      filter: drop-shadow(0px 1px 2px rgba(0, 0, 0, 0.3));\n",
              "      fill: #FFFFFF;\n",
              "    }\n",
              "  </style>\n",
              "\n",
              "      <script>\n",
              "        const buttonEl =\n",
              "          document.querySelector('#df-a092439a-e659-43b2-a1cb-5a1f05243dcf button.colab-df-convert');\n",
              "        buttonEl.style.display =\n",
              "          google.colab.kernel.accessAllowed ? 'block' : 'none';\n",
              "\n",
              "        async function convertToInteractive(key) {\n",
              "          const element = document.querySelector('#df-a092439a-e659-43b2-a1cb-5a1f05243dcf');\n",
              "          const dataTable =\n",
              "            await google.colab.kernel.invokeFunction('convertToInteractive',\n",
              "                                                     [key], {});\n",
              "          if (!dataTable) return;\n",
              "\n",
              "          const docLinkHtml = 'Like what you see? Visit the ' +\n",
              "            '<a target=\"_blank\" href=https://colab.research.google.com/notebooks/data_table.ipynb>data table notebook</a>'\n",
              "            + ' to learn more about interactive tables.';\n",
              "          element.innerHTML = '';\n",
              "          dataTable['output_type'] = 'display_data';\n",
              "          await google.colab.output.renderOutput(dataTable, element);\n",
              "          const docLink = document.createElement('div');\n",
              "          docLink.innerHTML = docLinkHtml;\n",
              "          element.appendChild(docLink);\n",
              "        }\n",
              "      </script>\n",
              "    </div>\n",
              "  </div>\n",
              "  "
            ]
          },
          "metadata": {},
          "execution_count": 43
        }
      ]
    },
    {
      "cell_type": "code",
      "source": [
        "movie_title = 'American History X (1998)'\n",
        "movie_recomend = movie_recom(movie_title)\n",
        "movie_recomend"
      ],
      "metadata": {
        "colab": {
          "base_uri": "https://localhost:8080/",
          "height": 363
        },
        "id": "AWRB34zQ72TI",
        "outputId": "597fd43f-215a-4cba-de5b-a435c2665219"
      },
      "execution_count": 44,
      "outputs": [
        {
          "output_type": "execute_result",
          "data": {
            "text/plain": [
              "                                       title  movieId       genres\n",
              "0                       People I Know (2002)     6330  Crime|Drama\n",
              "1        United States of Leland, The (2003)     7377  Crime|Drama\n",
              "2                       Above the Rim (1994)      409  Crime|Drama\n",
              "3                   Road to Perdition (2002)     5464  Crime|Drama\n",
              "4  Virgin Spring, The (Jungfrukällan) (1960)     7820  Crime|Drama\n",
              "5                Who'll Stop the Rain (1978)     4695  Crime|Drama\n",
              "6            Prophet, A (Un Prophète) (2009)    73344  Crime|Drama\n",
              "7                              Tsotsi (2005)    44204  Crime|Drama\n",
              "8             Godfather: Part II, The (1974)     1221  Crime|Drama\n",
              "9     Tattooed Life (Irezumi ichidai) (1965)    63768  Crime|Drama"
            ],
            "text/html": [
              "\n",
              "  <div id=\"df-9376a0c9-3deb-4a7c-8697-124e892f8a16\">\n",
              "    <div class=\"colab-df-container\">\n",
              "      <div>\n",
              "<style scoped>\n",
              "    .dataframe tbody tr th:only-of-type {\n",
              "        vertical-align: middle;\n",
              "    }\n",
              "\n",
              "    .dataframe tbody tr th {\n",
              "        vertical-align: top;\n",
              "    }\n",
              "\n",
              "    .dataframe thead th {\n",
              "        text-align: right;\n",
              "    }\n",
              "</style>\n",
              "<table border=\"1\" class=\"dataframe\">\n",
              "  <thead>\n",
              "    <tr style=\"text-align: right;\">\n",
              "      <th></th>\n",
              "      <th>title</th>\n",
              "      <th>movieId</th>\n",
              "      <th>genres</th>\n",
              "    </tr>\n",
              "  </thead>\n",
              "  <tbody>\n",
              "    <tr>\n",
              "      <th>0</th>\n",
              "      <td>People I Know (2002)</td>\n",
              "      <td>6330</td>\n",
              "      <td>Crime|Drama</td>\n",
              "    </tr>\n",
              "    <tr>\n",
              "      <th>1</th>\n",
              "      <td>United States of Leland, The (2003)</td>\n",
              "      <td>7377</td>\n",
              "      <td>Crime|Drama</td>\n",
              "    </tr>\n",
              "    <tr>\n",
              "      <th>2</th>\n",
              "      <td>Above the Rim (1994)</td>\n",
              "      <td>409</td>\n",
              "      <td>Crime|Drama</td>\n",
              "    </tr>\n",
              "    <tr>\n",
              "      <th>3</th>\n",
              "      <td>Road to Perdition (2002)</td>\n",
              "      <td>5464</td>\n",
              "      <td>Crime|Drama</td>\n",
              "    </tr>\n",
              "    <tr>\n",
              "      <th>4</th>\n",
              "      <td>Virgin Spring, The (Jungfrukällan) (1960)</td>\n",
              "      <td>7820</td>\n",
              "      <td>Crime|Drama</td>\n",
              "    </tr>\n",
              "    <tr>\n",
              "      <th>5</th>\n",
              "      <td>Who'll Stop the Rain (1978)</td>\n",
              "      <td>4695</td>\n",
              "      <td>Crime|Drama</td>\n",
              "    </tr>\n",
              "    <tr>\n",
              "      <th>6</th>\n",
              "      <td>Prophet, A (Un Prophète) (2009)</td>\n",
              "      <td>73344</td>\n",
              "      <td>Crime|Drama</td>\n",
              "    </tr>\n",
              "    <tr>\n",
              "      <th>7</th>\n",
              "      <td>Tsotsi (2005)</td>\n",
              "      <td>44204</td>\n",
              "      <td>Crime|Drama</td>\n",
              "    </tr>\n",
              "    <tr>\n",
              "      <th>8</th>\n",
              "      <td>Godfather: Part II, The (1974)</td>\n",
              "      <td>1221</td>\n",
              "      <td>Crime|Drama</td>\n",
              "    </tr>\n",
              "    <tr>\n",
              "      <th>9</th>\n",
              "      <td>Tattooed Life (Irezumi ichidai) (1965)</td>\n",
              "      <td>63768</td>\n",
              "      <td>Crime|Drama</td>\n",
              "    </tr>\n",
              "  </tbody>\n",
              "</table>\n",
              "</div>\n",
              "      <button class=\"colab-df-convert\" onclick=\"convertToInteractive('df-9376a0c9-3deb-4a7c-8697-124e892f8a16')\"\n",
              "              title=\"Convert this dataframe to an interactive table.\"\n",
              "              style=\"display:none;\">\n",
              "        \n",
              "  <svg xmlns=\"http://www.w3.org/2000/svg\" height=\"24px\"viewBox=\"0 0 24 24\"\n",
              "       width=\"24px\">\n",
              "    <path d=\"M0 0h24v24H0V0z\" fill=\"none\"/>\n",
              "    <path d=\"M18.56 5.44l.94 2.06.94-2.06 2.06-.94-2.06-.94-.94-2.06-.94 2.06-2.06.94zm-11 1L8.5 8.5l.94-2.06 2.06-.94-2.06-.94L8.5 2.5l-.94 2.06-2.06.94zm10 10l.94 2.06.94-2.06 2.06-.94-2.06-.94-.94-2.06-.94 2.06-2.06.94z\"/><path d=\"M17.41 7.96l-1.37-1.37c-.4-.4-.92-.59-1.43-.59-.52 0-1.04.2-1.43.59L10.3 9.45l-7.72 7.72c-.78.78-.78 2.05 0 2.83L4 21.41c.39.39.9.59 1.41.59.51 0 1.02-.2 1.41-.59l7.78-7.78 2.81-2.81c.8-.78.8-2.07 0-2.86zM5.41 20L4 18.59l7.72-7.72 1.47 1.35L5.41 20z\"/>\n",
              "  </svg>\n",
              "      </button>\n",
              "      \n",
              "  <style>\n",
              "    .colab-df-container {\n",
              "      display:flex;\n",
              "      flex-wrap:wrap;\n",
              "      gap: 12px;\n",
              "    }\n",
              "\n",
              "    .colab-df-convert {\n",
              "      background-color: #E8F0FE;\n",
              "      border: none;\n",
              "      border-radius: 50%;\n",
              "      cursor: pointer;\n",
              "      display: none;\n",
              "      fill: #1967D2;\n",
              "      height: 32px;\n",
              "      padding: 0 0 0 0;\n",
              "      width: 32px;\n",
              "    }\n",
              "\n",
              "    .colab-df-convert:hover {\n",
              "      background-color: #E2EBFA;\n",
              "      box-shadow: 0px 1px 2px rgba(60, 64, 67, 0.3), 0px 1px 3px 1px rgba(60, 64, 67, 0.15);\n",
              "      fill: #174EA6;\n",
              "    }\n",
              "\n",
              "    [theme=dark] .colab-df-convert {\n",
              "      background-color: #3B4455;\n",
              "      fill: #D2E3FC;\n",
              "    }\n",
              "\n",
              "    [theme=dark] .colab-df-convert:hover {\n",
              "      background-color: #434B5C;\n",
              "      box-shadow: 0px 1px 3px 1px rgba(0, 0, 0, 0.15);\n",
              "      filter: drop-shadow(0px 1px 2px rgba(0, 0, 0, 0.3));\n",
              "      fill: #FFFFFF;\n",
              "    }\n",
              "  </style>\n",
              "\n",
              "      <script>\n",
              "        const buttonEl =\n",
              "          document.querySelector('#df-9376a0c9-3deb-4a7c-8697-124e892f8a16 button.colab-df-convert');\n",
              "        buttonEl.style.display =\n",
              "          google.colab.kernel.accessAllowed ? 'block' : 'none';\n",
              "\n",
              "        async function convertToInteractive(key) {\n",
              "          const element = document.querySelector('#df-9376a0c9-3deb-4a7c-8697-124e892f8a16');\n",
              "          const dataTable =\n",
              "            await google.colab.kernel.invokeFunction('convertToInteractive',\n",
              "                                                     [key], {});\n",
              "          if (!dataTable) return;\n",
              "\n",
              "          const docLinkHtml = 'Like what you see? Visit the ' +\n",
              "            '<a target=\"_blank\" href=https://colab.research.google.com/notebooks/data_table.ipynb>data table notebook</a>'\n",
              "            + ' to learn more about interactive tables.';\n",
              "          element.innerHTML = '';\n",
              "          dataTable['output_type'] = 'display_data';\n",
              "          await google.colab.output.renderOutput(dataTable, element);\n",
              "          const docLink = document.createElement('div');\n",
              "          docLink.innerHTML = docLinkHtml;\n",
              "          element.appendChild(docLink);\n",
              "        }\n",
              "      </script>\n",
              "    </div>\n",
              "  </div>\n",
              "  "
            ]
          },
          "metadata": {},
          "execution_count": 44
        }
      ]
    },
    {
      "cell_type": "markdown",
      "source": [
        "Hasil uji rekomendasi di atas berhasil. Dapat dilihat bahwa sistem yang telah dirancang memberikan rekomendasi 10 judul film yang sesuai berdasarkan genre yang sama dengan satu judul film yang dipilih. Pada kasus ini menggunakan sample film *American History X (1998)* yang memiliki genre Crime dan Drama."
      ],
      "metadata": {
        "id": "9t5nFn8k4iMU"
      }
    },
    {
      "cell_type": "markdown",
      "source": [
        "- # **Collaborative Filtering**"
      ],
      "metadata": {
        "id": "nXaVoaPb6UWL"
      }
    },
    {
      "cell_type": "markdown",
      "source": [
        "**Proses encoding fitur userId pada dataset menjadi array**\n",
        "\n",
        "\n",
        "mengubah unique user id menjadi list, kemudian encoding User ID, lalu mengubah encoding angka ke userID"
      ],
      "metadata": {
        "id": "x5ukMr786jWm"
      }
    },
    {
      "cell_type": "code",
      "source": [
        "user_id = movierating['userId'].unique().tolist()\n",
        " \n",
        "user_to_user_encoded = {x: i for i, x in enumerate(user_id)}\n",
        " \n",
        "user_encoded_to_user = {i: x for i, x in enumerate(user_id)}"
      ],
      "metadata": {
        "id": "PkHzYdR878wU"
      },
      "execution_count": 48,
      "outputs": []
    },
    {
      "cell_type": "markdown",
      "source": [
        "**Proses encoding fitur movieId pada dataset  menjadi array**\n",
        "\n",
        "mengubah unique  movie id menjadi list, kemudian encoding movie ID, lalu mengubah encoding angka ke movieID"
      ],
      "metadata": {
        "id": "3JqAappL7p-C"
      }
    },
    {
      "cell_type": "code",
      "source": [
        "movie_id = movierating['movieId'].unique().tolist()\n",
        " \n",
        "movie_to_movie_encoded = {x: i for i, x in enumerate(movie_id)}\n",
        " \n",
        "movie_encoded_to_movie = {i: x for i, x in enumerate(movie_id)}"
      ],
      "metadata": {
        "id": "hiAU9t0m8AZv"
      },
      "execution_count": 50,
      "outputs": []
    },
    {
      "cell_type": "markdown",
      "source": [
        "**Mapping User ID ke dataframe user dan Movie ID ke dataframe movie**"
      ],
      "metadata": {
        "id": "Jy8gZW6u-eFf"
      }
    },
    {
      "cell_type": "code",
      "source": [
        "movierating['user'] = movierating['userId'].map(user_to_user_encoded)\n",
        "movierating['movie'] = movierating['movieId'].map(movie_to_movie_encoded)\n",
        "movierating.head()"
      ],
      "metadata": {
        "colab": {
          "base_uri": "https://localhost:8080/",
          "height": 303
        },
        "id": "9HCVoA4P8DU1",
        "outputId": "715914b6-aacb-4fea-d732-8a347757157f"
      },
      "execution_count": 51,
      "outputs": [
        {
          "output_type": "execute_result",
          "data": {
            "text/plain": [
              "   userId  movieId  rating                                         title  \\\n",
              "0       1        1       4                              Toy Story (1995)   \n",
              "1       1     2329       5                     American History X (1998)   \n",
              "2       1     2338       2  I Still Know What You Did Last Summer (1998)   \n",
              "3       1     2353       5                     Enemy of the State (1998)   \n",
              "4       1     2366       4                              King Kong (1933)   \n",
              "\n",
              "                                        genres  user  movie  \n",
              "0  Adventure|Animation|Children|Comedy|Fantasy     0      0  \n",
              "1                                  Crime|Drama     0      1  \n",
              "2                      Horror|Mystery|Thriller     0      2  \n",
              "3                              Action|Thriller     0      3  \n",
              "4              Action|Adventure|Fantasy|Horror     0      4  "
            ],
            "text/html": [
              "\n",
              "  <div id=\"df-5fd57865-970b-48de-8d8f-12107bdd4838\">\n",
              "    <div class=\"colab-df-container\">\n",
              "      <div>\n",
              "<style scoped>\n",
              "    .dataframe tbody tr th:only-of-type {\n",
              "        vertical-align: middle;\n",
              "    }\n",
              "\n",
              "    .dataframe tbody tr th {\n",
              "        vertical-align: top;\n",
              "    }\n",
              "\n",
              "    .dataframe thead th {\n",
              "        text-align: right;\n",
              "    }\n",
              "</style>\n",
              "<table border=\"1\" class=\"dataframe\">\n",
              "  <thead>\n",
              "    <tr style=\"text-align: right;\">\n",
              "      <th></th>\n",
              "      <th>userId</th>\n",
              "      <th>movieId</th>\n",
              "      <th>rating</th>\n",
              "      <th>title</th>\n",
              "      <th>genres</th>\n",
              "      <th>user</th>\n",
              "      <th>movie</th>\n",
              "    </tr>\n",
              "  </thead>\n",
              "  <tbody>\n",
              "    <tr>\n",
              "      <th>0</th>\n",
              "      <td>1</td>\n",
              "      <td>1</td>\n",
              "      <td>4</td>\n",
              "      <td>Toy Story (1995)</td>\n",
              "      <td>Adventure|Animation|Children|Comedy|Fantasy</td>\n",
              "      <td>0</td>\n",
              "      <td>0</td>\n",
              "    </tr>\n",
              "    <tr>\n",
              "      <th>1</th>\n",
              "      <td>1</td>\n",
              "      <td>2329</td>\n",
              "      <td>5</td>\n",
              "      <td>American History X (1998)</td>\n",
              "      <td>Crime|Drama</td>\n",
              "      <td>0</td>\n",
              "      <td>1</td>\n",
              "    </tr>\n",
              "    <tr>\n",
              "      <th>2</th>\n",
              "      <td>1</td>\n",
              "      <td>2338</td>\n",
              "      <td>2</td>\n",
              "      <td>I Still Know What You Did Last Summer (1998)</td>\n",
              "      <td>Horror|Mystery|Thriller</td>\n",
              "      <td>0</td>\n",
              "      <td>2</td>\n",
              "    </tr>\n",
              "    <tr>\n",
              "      <th>3</th>\n",
              "      <td>1</td>\n",
              "      <td>2353</td>\n",
              "      <td>5</td>\n",
              "      <td>Enemy of the State (1998)</td>\n",
              "      <td>Action|Thriller</td>\n",
              "      <td>0</td>\n",
              "      <td>3</td>\n",
              "    </tr>\n",
              "    <tr>\n",
              "      <th>4</th>\n",
              "      <td>1</td>\n",
              "      <td>2366</td>\n",
              "      <td>4</td>\n",
              "      <td>King Kong (1933)</td>\n",
              "      <td>Action|Adventure|Fantasy|Horror</td>\n",
              "      <td>0</td>\n",
              "      <td>4</td>\n",
              "    </tr>\n",
              "  </tbody>\n",
              "</table>\n",
              "</div>\n",
              "      <button class=\"colab-df-convert\" onclick=\"convertToInteractive('df-5fd57865-970b-48de-8d8f-12107bdd4838')\"\n",
              "              title=\"Convert this dataframe to an interactive table.\"\n",
              "              style=\"display:none;\">\n",
              "        \n",
              "  <svg xmlns=\"http://www.w3.org/2000/svg\" height=\"24px\"viewBox=\"0 0 24 24\"\n",
              "       width=\"24px\">\n",
              "    <path d=\"M0 0h24v24H0V0z\" fill=\"none\"/>\n",
              "    <path d=\"M18.56 5.44l.94 2.06.94-2.06 2.06-.94-2.06-.94-.94-2.06-.94 2.06-2.06.94zm-11 1L8.5 8.5l.94-2.06 2.06-.94-2.06-.94L8.5 2.5l-.94 2.06-2.06.94zm10 10l.94 2.06.94-2.06 2.06-.94-2.06-.94-.94-2.06-.94 2.06-2.06.94z\"/><path d=\"M17.41 7.96l-1.37-1.37c-.4-.4-.92-.59-1.43-.59-.52 0-1.04.2-1.43.59L10.3 9.45l-7.72 7.72c-.78.78-.78 2.05 0 2.83L4 21.41c.39.39.9.59 1.41.59.51 0 1.02-.2 1.41-.59l7.78-7.78 2.81-2.81c.8-.78.8-2.07 0-2.86zM5.41 20L4 18.59l7.72-7.72 1.47 1.35L5.41 20z\"/>\n",
              "  </svg>\n",
              "      </button>\n",
              "      \n",
              "  <style>\n",
              "    .colab-df-container {\n",
              "      display:flex;\n",
              "      flex-wrap:wrap;\n",
              "      gap: 12px;\n",
              "    }\n",
              "\n",
              "    .colab-df-convert {\n",
              "      background-color: #E8F0FE;\n",
              "      border: none;\n",
              "      border-radius: 50%;\n",
              "      cursor: pointer;\n",
              "      display: none;\n",
              "      fill: #1967D2;\n",
              "      height: 32px;\n",
              "      padding: 0 0 0 0;\n",
              "      width: 32px;\n",
              "    }\n",
              "\n",
              "    .colab-df-convert:hover {\n",
              "      background-color: #E2EBFA;\n",
              "      box-shadow: 0px 1px 2px rgba(60, 64, 67, 0.3), 0px 1px 3px 1px rgba(60, 64, 67, 0.15);\n",
              "      fill: #174EA6;\n",
              "    }\n",
              "\n",
              "    [theme=dark] .colab-df-convert {\n",
              "      background-color: #3B4455;\n",
              "      fill: #D2E3FC;\n",
              "    }\n",
              "\n",
              "    [theme=dark] .colab-df-convert:hover {\n",
              "      background-color: #434B5C;\n",
              "      box-shadow: 0px 1px 3px 1px rgba(0, 0, 0, 0.15);\n",
              "      filter: drop-shadow(0px 1px 2px rgba(0, 0, 0, 0.3));\n",
              "      fill: #FFFFFF;\n",
              "    }\n",
              "  </style>\n",
              "\n",
              "      <script>\n",
              "        const buttonEl =\n",
              "          document.querySelector('#df-5fd57865-970b-48de-8d8f-12107bdd4838 button.colab-df-convert');\n",
              "        buttonEl.style.display =\n",
              "          google.colab.kernel.accessAllowed ? 'block' : 'none';\n",
              "\n",
              "        async function convertToInteractive(key) {\n",
              "          const element = document.querySelector('#df-5fd57865-970b-48de-8d8f-12107bdd4838');\n",
              "          const dataTable =\n",
              "            await google.colab.kernel.invokeFunction('convertToInteractive',\n",
              "                                                     [key], {});\n",
              "          if (!dataTable) return;\n",
              "\n",
              "          const docLinkHtml = 'Like what you see? Visit the ' +\n",
              "            '<a target=\"_blank\" href=https://colab.research.google.com/notebooks/data_table.ipynb>data table notebook</a>'\n",
              "            + ' to learn more about interactive tables.';\n",
              "          element.innerHTML = '';\n",
              "          dataTable['output_type'] = 'display_data';\n",
              "          await google.colab.output.renderOutput(dataTable, element);\n",
              "          const docLink = document.createElement('div');\n",
              "          docLink.innerHTML = docLinkHtml;\n",
              "          element.appendChild(docLink);\n",
              "        }\n",
              "      </script>\n",
              "    </div>\n",
              "  </div>\n",
              "  "
            ]
          },
          "metadata": {},
          "execution_count": 51
        }
      ]
    },
    {
      "cell_type": "code",
      "source": [
        "num_users = len(user_to_user_encoded)\n",
        "print(f'Jumlah Pengguna Sebanyak {num_users}')\n",
        "\n",
        "num_movie = len(movie_encoded_to_movie)\n",
        "print(f'Jumlah Movie Sebanyak {num_movie}')\n",
        "\n",
        "movierating['rating'] = movierating['rating'].values.astype(np.float32)\n",
        "\n",
        "min_rating = min(movierating['rating'])\n",
        "print(f'Nilai Rating Terkecil: {min_rating}')\n",
        "\n",
        "max_rating = max(movierating['rating'])\n",
        "print(f'Nilai Rating Terbesar: {max_rating}')"
      ],
      "metadata": {
        "colab": {
          "base_uri": "https://localhost:8080/"
        },
        "id": "3use2uA38GXw",
        "outputId": "c409f85e-08d9-425a-df3c-6e3af4cc1807"
      },
      "execution_count": 54,
      "outputs": [
        {
          "output_type": "stream",
          "name": "stdout",
          "text": [
            "Jumlah Pengguna Sebanyak 610\n",
            "Jumlah Movie Sebanyak 9719\n",
            "Nilai Rating Terkecil: 0.0\n",
            "Nilai Rating Terbesar: 5.0\n"
          ]
        }
      ]
    },
    {
      "cell_type": "markdown",
      "source": [
        "### **Pembagian Data Training dan Validasi**"
      ],
      "metadata": {
        "id": "SiwqhhpEAlPE"
      }
    },
    {
      "cell_type": "markdown",
      "source": [
        "mengacak dataset"
      ],
      "metadata": {
        "id": "06Ex94KCBie7"
      }
    },
    {
      "cell_type": "code",
      "source": [
        "movierating = movierating.sample(frac=1, random_state=42)\n",
        "movierating.head()"
      ],
      "metadata": {
        "colab": {
          "base_uri": "https://localhost:8080/",
          "height": 250
        },
        "id": "qb4chdr_8HBe",
        "outputId": "3891847d-af85-46f1-bd5c-fcf1e929f48d"
      },
      "execution_count": 55,
      "outputs": [
        {
          "output_type": "execute_result",
          "data": {
            "text/plain": [
              "       userId  movieId  rating                                 title  \\\n",
              "27969     191       99     5.0  Heidi Fleiss: Hollywood Madam (1995)   \n",
              "44012     294     2060     2.0                    BASEketball (1998)   \n",
              "70876     453     3536     4.0              Keeping the Faith (2000)   \n",
              "6188       42      292     3.0                       Outbreak (1995)   \n",
              "34902     233     2858     3.0                American Beauty (1999)   \n",
              "\n",
              "                             genres  user  movie  \n",
              "27969                   Documentary   190   5551  \n",
              "44012                        Comedy   293   1463  \n",
              "70876          Comedy|Drama|Romance   452   1520  \n",
              "6188   Action|Drama|Sci-Fi|Thriller    41    660  \n",
              "34902                 Drama|Romance   232     96  "
            ],
            "text/html": [
              "\n",
              "  <div id=\"df-e8e63349-ed2e-4e82-8791-2738a31611b5\">\n",
              "    <div class=\"colab-df-container\">\n",
              "      <div>\n",
              "<style scoped>\n",
              "    .dataframe tbody tr th:only-of-type {\n",
              "        vertical-align: middle;\n",
              "    }\n",
              "\n",
              "    .dataframe tbody tr th {\n",
              "        vertical-align: top;\n",
              "    }\n",
              "\n",
              "    .dataframe thead th {\n",
              "        text-align: right;\n",
              "    }\n",
              "</style>\n",
              "<table border=\"1\" class=\"dataframe\">\n",
              "  <thead>\n",
              "    <tr style=\"text-align: right;\">\n",
              "      <th></th>\n",
              "      <th>userId</th>\n",
              "      <th>movieId</th>\n",
              "      <th>rating</th>\n",
              "      <th>title</th>\n",
              "      <th>genres</th>\n",
              "      <th>user</th>\n",
              "      <th>movie</th>\n",
              "    </tr>\n",
              "  </thead>\n",
              "  <tbody>\n",
              "    <tr>\n",
              "      <th>27969</th>\n",
              "      <td>191</td>\n",
              "      <td>99</td>\n",
              "      <td>5.0</td>\n",
              "      <td>Heidi Fleiss: Hollywood Madam (1995)</td>\n",
              "      <td>Documentary</td>\n",
              "      <td>190</td>\n",
              "      <td>5551</td>\n",
              "    </tr>\n",
              "    <tr>\n",
              "      <th>44012</th>\n",
              "      <td>294</td>\n",
              "      <td>2060</td>\n",
              "      <td>2.0</td>\n",
              "      <td>BASEketball (1998)</td>\n",
              "      <td>Comedy</td>\n",
              "      <td>293</td>\n",
              "      <td>1463</td>\n",
              "    </tr>\n",
              "    <tr>\n",
              "      <th>70876</th>\n",
              "      <td>453</td>\n",
              "      <td>3536</td>\n",
              "      <td>4.0</td>\n",
              "      <td>Keeping the Faith (2000)</td>\n",
              "      <td>Comedy|Drama|Romance</td>\n",
              "      <td>452</td>\n",
              "      <td>1520</td>\n",
              "    </tr>\n",
              "    <tr>\n",
              "      <th>6188</th>\n",
              "      <td>42</td>\n",
              "      <td>292</td>\n",
              "      <td>3.0</td>\n",
              "      <td>Outbreak (1995)</td>\n",
              "      <td>Action|Drama|Sci-Fi|Thriller</td>\n",
              "      <td>41</td>\n",
              "      <td>660</td>\n",
              "    </tr>\n",
              "    <tr>\n",
              "      <th>34902</th>\n",
              "      <td>233</td>\n",
              "      <td>2858</td>\n",
              "      <td>3.0</td>\n",
              "      <td>American Beauty (1999)</td>\n",
              "      <td>Drama|Romance</td>\n",
              "      <td>232</td>\n",
              "      <td>96</td>\n",
              "    </tr>\n",
              "  </tbody>\n",
              "</table>\n",
              "</div>\n",
              "      <button class=\"colab-df-convert\" onclick=\"convertToInteractive('df-e8e63349-ed2e-4e82-8791-2738a31611b5')\"\n",
              "              title=\"Convert this dataframe to an interactive table.\"\n",
              "              style=\"display:none;\">\n",
              "        \n",
              "  <svg xmlns=\"http://www.w3.org/2000/svg\" height=\"24px\"viewBox=\"0 0 24 24\"\n",
              "       width=\"24px\">\n",
              "    <path d=\"M0 0h24v24H0V0z\" fill=\"none\"/>\n",
              "    <path d=\"M18.56 5.44l.94 2.06.94-2.06 2.06-.94-2.06-.94-.94-2.06-.94 2.06-2.06.94zm-11 1L8.5 8.5l.94-2.06 2.06-.94-2.06-.94L8.5 2.5l-.94 2.06-2.06.94zm10 10l.94 2.06.94-2.06 2.06-.94-2.06-.94-.94-2.06-.94 2.06-2.06.94z\"/><path d=\"M17.41 7.96l-1.37-1.37c-.4-.4-.92-.59-1.43-.59-.52 0-1.04.2-1.43.59L10.3 9.45l-7.72 7.72c-.78.78-.78 2.05 0 2.83L4 21.41c.39.39.9.59 1.41.59.51 0 1.02-.2 1.41-.59l7.78-7.78 2.81-2.81c.8-.78.8-2.07 0-2.86zM5.41 20L4 18.59l7.72-7.72 1.47 1.35L5.41 20z\"/>\n",
              "  </svg>\n",
              "      </button>\n",
              "      \n",
              "  <style>\n",
              "    .colab-df-container {\n",
              "      display:flex;\n",
              "      flex-wrap:wrap;\n",
              "      gap: 12px;\n",
              "    }\n",
              "\n",
              "    .colab-df-convert {\n",
              "      background-color: #E8F0FE;\n",
              "      border: none;\n",
              "      border-radius: 50%;\n",
              "      cursor: pointer;\n",
              "      display: none;\n",
              "      fill: #1967D2;\n",
              "      height: 32px;\n",
              "      padding: 0 0 0 0;\n",
              "      width: 32px;\n",
              "    }\n",
              "\n",
              "    .colab-df-convert:hover {\n",
              "      background-color: #E2EBFA;\n",
              "      box-shadow: 0px 1px 2px rgba(60, 64, 67, 0.3), 0px 1px 3px 1px rgba(60, 64, 67, 0.15);\n",
              "      fill: #174EA6;\n",
              "    }\n",
              "\n",
              "    [theme=dark] .colab-df-convert {\n",
              "      background-color: #3B4455;\n",
              "      fill: #D2E3FC;\n",
              "    }\n",
              "\n",
              "    [theme=dark] .colab-df-convert:hover {\n",
              "      background-color: #434B5C;\n",
              "      box-shadow: 0px 1px 3px 1px rgba(0, 0, 0, 0.15);\n",
              "      filter: drop-shadow(0px 1px 2px rgba(0, 0, 0, 0.3));\n",
              "      fill: #FFFFFF;\n",
              "    }\n",
              "  </style>\n",
              "\n",
              "      <script>\n",
              "        const buttonEl =\n",
              "          document.querySelector('#df-e8e63349-ed2e-4e82-8791-2738a31611b5 button.colab-df-convert');\n",
              "        buttonEl.style.display =\n",
              "          google.colab.kernel.accessAllowed ? 'block' : 'none';\n",
              "\n",
              "        async function convertToInteractive(key) {\n",
              "          const element = document.querySelector('#df-e8e63349-ed2e-4e82-8791-2738a31611b5');\n",
              "          const dataTable =\n",
              "            await google.colab.kernel.invokeFunction('convertToInteractive',\n",
              "                                                     [key], {});\n",
              "          if (!dataTable) return;\n",
              "\n",
              "          const docLinkHtml = 'Like what you see? Visit the ' +\n",
              "            '<a target=\"_blank\" href=https://colab.research.google.com/notebooks/data_table.ipynb>data table notebook</a>'\n",
              "            + ' to learn more about interactive tables.';\n",
              "          element.innerHTML = '';\n",
              "          dataTable['output_type'] = 'display_data';\n",
              "          await google.colab.output.renderOutput(dataTable, element);\n",
              "          const docLink = document.createElement('div');\n",
              "          docLink.innerHTML = docLinkHtml;\n",
              "          element.appendChild(docLink);\n",
              "        }\n",
              "      </script>\n",
              "    </div>\n",
              "  </div>\n",
              "  "
            ]
          },
          "metadata": {},
          "execution_count": 55
        }
      ]
    },
    {
      "cell_type": "markdown",
      "source": [
        "mendeklarasikan x untuk mencocokkan data pengguna dan film menjadi satu value, lalu mendeklarasikan y untuk rating dari hasil, selanjutnya membagi dataset dengan skala data **training 80% dan validasi 20%**"
      ],
      "metadata": {
        "id": "yQ6LUwZSB2Q5"
      }
    },
    {
      "cell_type": "code",
      "source": [
        "x = movierating[['user', 'movie']].values\n",
        "y = movierating['rating'].apply(lambda x: (x - min_rating) / (max_rating - min_rating)).values\n",
        "train_indices = int(0.8 * movierating.shape[0])\n",
        "x_train, x_val, y_train, y_val = (\n",
        "    x[:train_indices],\n",
        "    x[train_indices:],\n",
        "    y[:train_indices],\n",
        "    y[train_indices:]\n",
        ")"
      ],
      "metadata": {
        "id": "e65fxNN78LZF"
      },
      "execution_count": 57,
      "outputs": []
    },
    {
      "cell_type": "markdown",
      "source": [
        "### **Melatih Model**\n",
        "\n"
      ],
      "metadata": {
        "id": "elTjifRYC1U_"
      }
    },
    {
      "cell_type": "markdown",
      "source": [
        "Pembuatan Kelas dan Inisialisasi Fungsi"
      ],
      "metadata": {
        "id": "hSJjM4ICDP1i"
      }
    },
    {
      "cell_type": "code",
      "source": [
        "class RecommenderNet(tf.keras.Model):\n",
        "  def __init__(self, num_users, num_movie, embedding_size, **kwargs):\n",
        "    super(RecommenderNet, self).__init__(**kwargs)\n",
        "    self.num_users = num_users\n",
        "    self.num_movie = num_movie\n",
        "    self.embedding_size = embedding_size\n",
        "    self.user_embedding = layers.Embedding(\n",
        "        num_users,\n",
        "        embedding_size,\n",
        "        embeddings_initializer = 'he_normal',\n",
        "        embeddings_regularizer = keras.regularizers.l2(5e-7)\n",
        "    )\n",
        "    self.user_bias = layers.Embedding(num_users, 1)\n",
        "    self.movie_embedding = layers.Embedding(\n",
        "        num_movie,\n",
        "        embedding_size,\n",
        "        embeddings_initializer = 'he_normal',\n",
        "        embeddings_regularizer = keras.regularizers.l2(5e-7)\n",
        "    )\n",
        "    self.movie_bias = layers.Embedding(num_movie, 1)\n",
        " \n",
        "  def call(self, inputs):\n",
        "    user_vector = self.user_embedding(inputs[:,0])\n",
        "    user_bias = self.user_bias(inputs[:, 0])\n",
        "    movie_vector = self.movie_embedding(inputs[:, 1])\n",
        "    movie_bias = self.movie_bias(inputs[:, 1])\n",
        " \n",
        "    dot_user_movie = tf.tensordot(user_vector, movie_vector, 2) \n",
        " \n",
        "    x = dot_user_movie + user_bias + movie_bias\n",
        "    \n",
        "    return tf.nn.sigmoid(x)"
      ],
      "metadata": {
        "id": "5KF6lav_8Ov1"
      },
      "execution_count": 65,
      "outputs": []
    },
    {
      "cell_type": "code",
      "source": [
        "#memanggil kelas\n",
        "model = RecommenderNet(num_users, num_movie, 50) \n",
        "\n",
        "#mengcompile model\n",
        "model.compile(\n",
        "    loss = tf.keras.losses.BinaryCrossentropy(),\n",
        "    optimizer = keras.optimizers.Adam(learning_rate=0.001),\n",
        "    metrics=[[tf.keras.metrics.MeanAbsoluteError(),tf.keras.metrics.RootMeanSquaredError()]]\n",
        ")\n",
        "\n",
        "#callback\n",
        "iniCallbacks = EarlyStopping(\n",
        "    min_delta=0.0001,\n",
        "    patience=7,\n",
        "    restore_best_weights=True,\n",
        ")"
      ],
      "metadata": {
        "id": "q-dcKDSk8TYd"
      },
      "execution_count": 69,
      "outputs": []
    },
    {
      "cell_type": "code",
      "source": [
        "history = model.fit(\n",
        "    x = x_train,\n",
        "    y = y_train,\n",
        "    batch_size = 64,\n",
        "    epochs = 100,\n",
        "    validation_data = (x_val, y_val),\n",
        "    callbacks=[iniCallbacks]\n",
        ")"
      ],
      "metadata": {
        "colab": {
          "base_uri": "https://localhost:8080/"
        },
        "id": "ovzd75Kn8U_D",
        "outputId": "c01a06f0-5ec0-4606-d0ff-6dee07b1664f"
      },
      "execution_count": 70,
      "outputs": [
        {
          "output_type": "stream",
          "name": "stdout",
          "text": [
            "Epoch 1/100\n",
            "1261/1261 [==============================] - 13s 9ms/step - loss: 0.6386 - mean_absolute_error: 0.1807 - root_mean_squared_error: 0.2233 - val_loss: 0.6190 - val_mean_absolute_error: 0.1609 - val_root_mean_squared_error: 0.2018\n",
            "Epoch 2/100\n",
            "1261/1261 [==============================] - 11s 9ms/step - loss: 0.6149 - mean_absolute_error: 0.1555 - root_mean_squared_error: 0.1971 - val_loss: 0.6184 - val_mean_absolute_error: 0.1605 - val_root_mean_squared_error: 0.2009\n",
            "Epoch 3/100\n",
            "1261/1261 [==============================] - 10s 8ms/step - loss: 0.6096 - mean_absolute_error: 0.1492 - root_mean_squared_error: 0.1912 - val_loss: 0.6144 - val_mean_absolute_error: 0.1560 - val_root_mean_squared_error: 0.1966\n",
            "Epoch 4/100\n",
            "1261/1261 [==============================] - 12s 9ms/step - loss: 0.6084 - mean_absolute_error: 0.1477 - root_mean_squared_error: 0.1898 - val_loss: 0.6142 - val_mean_absolute_error: 0.1561 - val_root_mean_squared_error: 0.1965\n",
            "Epoch 5/100\n",
            "1261/1261 [==============================] - 10s 8ms/step - loss: 0.6085 - mean_absolute_error: 0.1472 - root_mean_squared_error: 0.1897 - val_loss: 0.6125 - val_mean_absolute_error: 0.1535 - val_root_mean_squared_error: 0.1947\n",
            "Epoch 6/100\n",
            "1261/1261 [==============================] - 10s 8ms/step - loss: 0.6085 - mean_absolute_error: 0.1473 - root_mean_squared_error: 0.1896 - val_loss: 0.6142 - val_mean_absolute_error: 0.1558 - val_root_mean_squared_error: 0.1967\n",
            "Epoch 7/100\n",
            "1261/1261 [==============================] - 11s 9ms/step - loss: 0.6088 - mean_absolute_error: 0.1471 - root_mean_squared_error: 0.1897 - val_loss: 0.6121 - val_mean_absolute_error: 0.1527 - val_root_mean_squared_error: 0.1941\n",
            "Epoch 8/100\n",
            "1261/1261 [==============================] - 13s 10ms/step - loss: 0.6081 - mean_absolute_error: 0.1464 - root_mean_squared_error: 0.1888 - val_loss: 0.6136 - val_mean_absolute_error: 0.1543 - val_root_mean_squared_error: 0.1958\n",
            "Epoch 9/100\n",
            "1261/1261 [==============================] - 13s 10ms/step - loss: 0.6081 - mean_absolute_error: 0.1466 - root_mean_squared_error: 0.1886 - val_loss: 0.6108 - val_mean_absolute_error: 0.1504 - val_root_mean_squared_error: 0.1923\n",
            "Epoch 10/100\n",
            "1261/1261 [==============================] - 11s 9ms/step - loss: 0.6081 - mean_absolute_error: 0.1462 - root_mean_squared_error: 0.1884 - val_loss: 0.6118 - val_mean_absolute_error: 0.1515 - val_root_mean_squared_error: 0.1934\n",
            "Epoch 11/100\n",
            "1261/1261 [==============================] - 11s 8ms/step - loss: 0.6073 - mean_absolute_error: 0.1453 - root_mean_squared_error: 0.1874 - val_loss: 0.6118 - val_mean_absolute_error: 0.1517 - val_root_mean_squared_error: 0.1934\n",
            "Epoch 12/100\n",
            "1261/1261 [==============================] - 11s 9ms/step - loss: 0.6065 - mean_absolute_error: 0.1447 - root_mean_squared_error: 0.1865 - val_loss: 0.6131 - val_mean_absolute_error: 0.1529 - val_root_mean_squared_error: 0.1948\n",
            "Epoch 13/100\n",
            "1261/1261 [==============================] - 11s 8ms/step - loss: 0.6065 - mean_absolute_error: 0.1444 - root_mean_squared_error: 0.1863 - val_loss: 0.6138 - val_mean_absolute_error: 0.1538 - val_root_mean_squared_error: 0.1955\n",
            "Epoch 14/100\n",
            "1261/1261 [==============================] - 11s 9ms/step - loss: 0.6074 - mean_absolute_error: 0.1455 - root_mean_squared_error: 0.1872 - val_loss: 0.6131 - val_mean_absolute_error: 0.1524 - val_root_mean_squared_error: 0.1945\n",
            "Epoch 15/100\n",
            "1261/1261 [==============================] - 11s 9ms/step - loss: 0.6079 - mean_absolute_error: 0.1456 - root_mean_squared_error: 0.1878 - val_loss: 0.6124 - val_mean_absolute_error: 0.1516 - val_root_mean_squared_error: 0.1939\n",
            "Epoch 16/100\n",
            "1261/1261 [==============================] - 11s 9ms/step - loss: 0.6062 - mean_absolute_error: 0.1440 - root_mean_squared_error: 0.1856 - val_loss: 0.6132 - val_mean_absolute_error: 0.1525 - val_root_mean_squared_error: 0.1946\n"
          ]
        }
      ]
    },
    {
      "cell_type": "markdown",
      "source": [
        "### **Test Model Recommedation Collaborative Filtering**"
      ],
      "metadata": {
        "id": "T9dtS_NDEyZL"
      }
    },
    {
      "cell_type": "markdown",
      "source": [
        "Mengambil Datasampel Pengguna"
      ],
      "metadata": {
        "id": "UblvG-vcFf0V"
      }
    },
    {
      "cell_type": "code",
      "source": [
        "user_ID = movierating.userId.sample(1).iloc[0]\n",
        "movie_watched_by_user = movierating[movierating.userId == user_ID]\n",
        " \n",
        "movie_not_watched = movies[~movies['movieId'].isin(movie_watched_by_user.movieId.values)]['movieId'] \n",
        "movie_not_watched = list(\n",
        "    set(movie_not_watched)\n",
        "    .intersection(set(movie_to_movie_encoded.keys()))\n",
        ")\n",
        "\n",
        " \n",
        "movie_not_watched = [[movie_to_movie_encoded.get(x)] for x in movie_not_watched]\n",
        "user_encoder = user_to_user_encoded.get(user_ID)\n",
        "user_movie_array = np.hstack(\n",
        "    ([[user_encoder]] * len(movie_not_watched), movie_not_watched)\n",
        ")"
      ],
      "metadata": {
        "id": "oYWJbrFn8XAg"
      },
      "execution_count": 71,
      "outputs": []
    },
    {
      "cell_type": "code",
      "source": [
        "ratings = model.predict(user_movie_array).flatten()\n",
        " \n",
        "top_ratings_indices = ratings.argsort()[-10:][::-1]\n",
        "recommended_movie_ids = [\n",
        "    movie_encoded_to_movie.get(movie_not_watched[x][0]) for x in top_ratings_indices\n",
        "]\n",
        "\n",
        "print('Hasil Rekomendasi Berdasarkan Model Collaborative Filtering')\n",
        "print('====' * 15) \n",
        "print(f'Rekomendasi Untuk User dengan ID {(user_ID)} (dipilih secara acak)')\n",
        "print('====' * 15)\n",
        "print(f'5 Movie dengan Rating Tertinggi dari user {(user_ID)}')\n",
        "print('----' * 10)\n",
        " \n",
        "top_movie_user = (\n",
        "    movie_watched_by_user.sort_values(\n",
        "        by = 'rating',\n",
        "        ascending=False\n",
        "    )\n",
        "    .head(5)\n",
        "    .movieId.values\n",
        ")\n",
        " \n",
        "movie_df_rows = movies[movies['movieId'].isin(top_movie_user)]\n",
        "for row in movie_df_rows.itertuples():\n",
        "    print(row.title, ':', row.genres)\n",
        " \n",
        "print('====' * 15)\n",
        "print(f'Untuk itu, Top 10 Rekomendasi Movie untuk user {(user_ID)} adalah berikut')\n",
        "print('----' * 10)\n",
        " \n",
        "recommended_movie = movies[movies['movieId'].isin(recommended_movie_ids)]\n",
        "for row in recommended_movie.itertuples():\n",
        "    print(row.title, ':', row.genres)"
      ],
      "metadata": {
        "id": "JWJRh2Vf8c2p",
        "colab": {
          "base_uri": "https://localhost:8080/"
        },
        "outputId": "cde5d8a6-c1b7-4af6-b92c-6b8a68bf4159"
      },
      "execution_count": 79,
      "outputs": [
        {
          "output_type": "stream",
          "name": "stdout",
          "text": [
            "297/297 [==============================] - 0s 1ms/step\n",
            "Hasil Rekomendasi Berdasarkan Model Collaborative Filtering\n",
            "============================================================\n",
            "Rekomendasi Untuk User dengan ID 20 (dipilih secara acak)\n",
            "============================================================\n",
            "5 Movie dengan Rating Tertinggi dari user 20\n",
            "----------------------------------------\n",
            "Aladdin (1992) : Adventure|Animation|Children|Comedy|Musical\n",
            "Sword in the Stone, The (1963) : Animation|Children|Fantasy|Musical\n",
            "Toy Story 2 (1999) : Adventure|Animation|Children|Comedy|Fantasy\n",
            "Muppets Take Manhattan, The (1984) : Children|Comedy|Musical\n",
            "Spirited Away (Sen to Chihiro no kamikakushi) (2001) : Adventure|Animation|Fantasy\n",
            "============================================================\n",
            "Untuk itu, Top 10 Rekomendasi Movie untuk user 20 adalah berikut\n",
            "----------------------------------------\n",
            "Pulp Fiction (1994) : Comedy|Crime|Drama|Thriller\n",
            "Shawshank Redemption, The (1994) : Crime|Drama\n",
            "Godfather, The (1972) : Crime|Drama\n",
            "Star Wars: Episode V - The Empire Strikes Back (1980) : Action|Adventure|Sci-Fi\n",
            "Apocalypse Now (1979) : Action|Drama|War\n",
            "Star Wars: Episode VI - Return of the Jedi (1983) : Action|Adventure|Sci-Fi\n",
            "Third Man, The (1949) : Film-Noir|Mystery|Thriller\n",
            "Goodfellas (1990) : Crime|Drama\n",
            "Ran (1985) : Drama|War\n",
            "Godfather: Part II, The (1974) : Crime|Drama\n"
          ]
        }
      ]
    },
    {
      "cell_type": "markdown",
      "source": [
        "# **4. Evaluation**"
      ],
      "metadata": {
        "id": "RTzPQTiTP1G4"
      }
    },
    {
      "cell_type": "markdown",
      "source": [
        "Evaluasi menggunakan **Mean Absolute Error (MAE)** dan **Root Mean Squared Error (RMSE)** pada Collaborative Filtering dan Precision Content Based Filtering"
      ],
      "metadata": {
        "id": "YEkzvOrAQJWD"
      }
    },
    {
      "cell_type": "markdown",
      "source": [
        "**Mengecek Precision Metrik**"
      ],
      "metadata": {
        "id": "se8gcq5pQ5Hs"
      }
    },
    {
      "cell_type": "code",
      "source": [
        "find_movie = movies[movies['title'] == 'Toy Story (1995)']\n",
        "find_movie"
      ],
      "metadata": {
        "id": "aKV7fDSi8gWM",
        "colab": {
          "base_uri": "https://localhost:8080/",
          "height": 81
        },
        "outputId": "83789503-2dff-4f12-a94e-0fb544439497"
      },
      "execution_count": 73,
      "outputs": [
        {
          "output_type": "execute_result",
          "data": {
            "text/plain": [
              "   movieId             title                                       genres\n",
              "0        1  Toy Story (1995)  Adventure|Animation|Children|Comedy|Fantasy"
            ],
            "text/html": [
              "\n",
              "  <div id=\"df-ddec256d-084a-497f-b147-40bf594c5b44\">\n",
              "    <div class=\"colab-df-container\">\n",
              "      <div>\n",
              "<style scoped>\n",
              "    .dataframe tbody tr th:only-of-type {\n",
              "        vertical-align: middle;\n",
              "    }\n",
              "\n",
              "    .dataframe tbody tr th {\n",
              "        vertical-align: top;\n",
              "    }\n",
              "\n",
              "    .dataframe thead th {\n",
              "        text-align: right;\n",
              "    }\n",
              "</style>\n",
              "<table border=\"1\" class=\"dataframe\">\n",
              "  <thead>\n",
              "    <tr style=\"text-align: right;\">\n",
              "      <th></th>\n",
              "      <th>movieId</th>\n",
              "      <th>title</th>\n",
              "      <th>genres</th>\n",
              "    </tr>\n",
              "  </thead>\n",
              "  <tbody>\n",
              "    <tr>\n",
              "      <th>0</th>\n",
              "      <td>1</td>\n",
              "      <td>Toy Story (1995)</td>\n",
              "      <td>Adventure|Animation|Children|Comedy|Fantasy</td>\n",
              "    </tr>\n",
              "  </tbody>\n",
              "</table>\n",
              "</div>\n",
              "      <button class=\"colab-df-convert\" onclick=\"convertToInteractive('df-ddec256d-084a-497f-b147-40bf594c5b44')\"\n",
              "              title=\"Convert this dataframe to an interactive table.\"\n",
              "              style=\"display:none;\">\n",
              "        \n",
              "  <svg xmlns=\"http://www.w3.org/2000/svg\" height=\"24px\"viewBox=\"0 0 24 24\"\n",
              "       width=\"24px\">\n",
              "    <path d=\"M0 0h24v24H0V0z\" fill=\"none\"/>\n",
              "    <path d=\"M18.56 5.44l.94 2.06.94-2.06 2.06-.94-2.06-.94-.94-2.06-.94 2.06-2.06.94zm-11 1L8.5 8.5l.94-2.06 2.06-.94-2.06-.94L8.5 2.5l-.94 2.06-2.06.94zm10 10l.94 2.06.94-2.06 2.06-.94-2.06-.94-.94-2.06-.94 2.06-2.06.94z\"/><path d=\"M17.41 7.96l-1.37-1.37c-.4-.4-.92-.59-1.43-.59-.52 0-1.04.2-1.43.59L10.3 9.45l-7.72 7.72c-.78.78-.78 2.05 0 2.83L4 21.41c.39.39.9.59 1.41.59.51 0 1.02-.2 1.41-.59l7.78-7.78 2.81-2.81c.8-.78.8-2.07 0-2.86zM5.41 20L4 18.59l7.72-7.72 1.47 1.35L5.41 20z\"/>\n",
              "  </svg>\n",
              "      </button>\n",
              "      \n",
              "  <style>\n",
              "    .colab-df-container {\n",
              "      display:flex;\n",
              "      flex-wrap:wrap;\n",
              "      gap: 12px;\n",
              "    }\n",
              "\n",
              "    .colab-df-convert {\n",
              "      background-color: #E8F0FE;\n",
              "      border: none;\n",
              "      border-radius: 50%;\n",
              "      cursor: pointer;\n",
              "      display: none;\n",
              "      fill: #1967D2;\n",
              "      height: 32px;\n",
              "      padding: 0 0 0 0;\n",
              "      width: 32px;\n",
              "    }\n",
              "\n",
              "    .colab-df-convert:hover {\n",
              "      background-color: #E2EBFA;\n",
              "      box-shadow: 0px 1px 2px rgba(60, 64, 67, 0.3), 0px 1px 3px 1px rgba(60, 64, 67, 0.15);\n",
              "      fill: #174EA6;\n",
              "    }\n",
              "\n",
              "    [theme=dark] .colab-df-convert {\n",
              "      background-color: #3B4455;\n",
              "      fill: #D2E3FC;\n",
              "    }\n",
              "\n",
              "    [theme=dark] .colab-df-convert:hover {\n",
              "      background-color: #434B5C;\n",
              "      box-shadow: 0px 1px 3px 1px rgba(0, 0, 0, 0.15);\n",
              "      filter: drop-shadow(0px 1px 2px rgba(0, 0, 0, 0.3));\n",
              "      fill: #FFFFFF;\n",
              "    }\n",
              "  </style>\n",
              "\n",
              "      <script>\n",
              "        const buttonEl =\n",
              "          document.querySelector('#df-ddec256d-084a-497f-b147-40bf594c5b44 button.colab-df-convert');\n",
              "        buttonEl.style.display =\n",
              "          google.colab.kernel.accessAllowed ? 'block' : 'none';\n",
              "\n",
              "        async function convertToInteractive(key) {\n",
              "          const element = document.querySelector('#df-ddec256d-084a-497f-b147-40bf594c5b44');\n",
              "          const dataTable =\n",
              "            await google.colab.kernel.invokeFunction('convertToInteractive',\n",
              "                                                     [key], {});\n",
              "          if (!dataTable) return;\n",
              "\n",
              "          const docLinkHtml = 'Like what you see? Visit the ' +\n",
              "            '<a target=\"_blank\" href=https://colab.research.google.com/notebooks/data_table.ipynb>data table notebook</a>'\n",
              "            + ' to learn more about interactive tables.';\n",
              "          element.innerHTML = '';\n",
              "          dataTable['output_type'] = 'display_data';\n",
              "          await google.colab.output.renderOutput(dataTable, element);\n",
              "          const docLink = document.createElement('div');\n",
              "          docLink.innerHTML = docLinkHtml;\n",
              "          element.appendChild(docLink);\n",
              "        }\n",
              "      </script>\n",
              "    </div>\n",
              "  </div>\n",
              "  "
            ]
          },
          "metadata": {},
          "execution_count": 73
        }
      ]
    },
    {
      "cell_type": "markdown",
      "source": [
        "dapat dilihat film **Toy Story (1995)** memiliki 4 Genre yakni Adventure, Animation, Children, Comedy, dan Fantasy. Kemudian, kita akan melihat apakah rekomendasi akan sesuai 100% melalui langkah berikut ini"
      ],
      "metadata": {
        "id": "8UVAz8a_Qzua"
      }
    },
    {
      "cell_type": "code",
      "source": [
        "movie_title = 'Toy Story (1995)'\n",
        "movie_recomend = movie_recom(movie_title)\n",
        "movie_recomend"
      ],
      "metadata": {
        "id": "1To3DZwY8h9r",
        "colab": {
          "base_uri": "https://localhost:8080/",
          "height": 363
        },
        "outputId": "8011e7f4-71ba-4a5a-dd30-b02835ed7569"
      },
      "execution_count": 80,
      "outputs": [
        {
          "output_type": "execute_result",
          "data": {
            "text/plain": [
              "                                               title  movieId  \\\n",
              "0                             Shrek the Third (2007)    53121   \n",
              "1  Asterix and the Vikings (Astérix et les Viking...    91355   \n",
              "2                     Tale of Despereaux, The (2008)    65577   \n",
              "3                              Monsters, Inc. (2001)     4886   \n",
              "4                                       Moana (2016)   166461   \n",
              "5                   Emperor's New Groove, The (2000)     4016   \n",
              "6                                       Turbo (2013)   103755   \n",
              "7                           The Good Dinosaur (2015)   136016   \n",
              "8                                 Toy Story 2 (1999)     3114   \n",
              "9      Little Nemo: Adventures in Slumberland (1992)     2800   \n",
              "\n",
              "                                        genres  \n",
              "0  Adventure|Animation|Children|Comedy|Fantasy  \n",
              "1  Adventure|Animation|Children|Comedy|Fantasy  \n",
              "2  Adventure|Animation|Children|Comedy|Fantasy  \n",
              "3  Adventure|Animation|Children|Comedy|Fantasy  \n",
              "4  Adventure|Animation|Children|Comedy|Fantasy  \n",
              "5  Adventure|Animation|Children|Comedy|Fantasy  \n",
              "6  Adventure|Animation|Children|Comedy|Fantasy  \n",
              "7  Adventure|Animation|Children|Comedy|Fantasy  \n",
              "8  Adventure|Animation|Children|Comedy|Fantasy  \n",
              "9   Adventure|Animation|Children|Drama|Fantasy  "
            ],
            "text/html": [
              "\n",
              "  <div id=\"df-34e0b134-83f3-4b8a-96e4-99502459d3e4\">\n",
              "    <div class=\"colab-df-container\">\n",
              "      <div>\n",
              "<style scoped>\n",
              "    .dataframe tbody tr th:only-of-type {\n",
              "        vertical-align: middle;\n",
              "    }\n",
              "\n",
              "    .dataframe tbody tr th {\n",
              "        vertical-align: top;\n",
              "    }\n",
              "\n",
              "    .dataframe thead th {\n",
              "        text-align: right;\n",
              "    }\n",
              "</style>\n",
              "<table border=\"1\" class=\"dataframe\">\n",
              "  <thead>\n",
              "    <tr style=\"text-align: right;\">\n",
              "      <th></th>\n",
              "      <th>title</th>\n",
              "      <th>movieId</th>\n",
              "      <th>genres</th>\n",
              "    </tr>\n",
              "  </thead>\n",
              "  <tbody>\n",
              "    <tr>\n",
              "      <th>0</th>\n",
              "      <td>Shrek the Third (2007)</td>\n",
              "      <td>53121</td>\n",
              "      <td>Adventure|Animation|Children|Comedy|Fantasy</td>\n",
              "    </tr>\n",
              "    <tr>\n",
              "      <th>1</th>\n",
              "      <td>Asterix and the Vikings (Astérix et les Viking...</td>\n",
              "      <td>91355</td>\n",
              "      <td>Adventure|Animation|Children|Comedy|Fantasy</td>\n",
              "    </tr>\n",
              "    <tr>\n",
              "      <th>2</th>\n",
              "      <td>Tale of Despereaux, The (2008)</td>\n",
              "      <td>65577</td>\n",
              "      <td>Adventure|Animation|Children|Comedy|Fantasy</td>\n",
              "    </tr>\n",
              "    <tr>\n",
              "      <th>3</th>\n",
              "      <td>Monsters, Inc. (2001)</td>\n",
              "      <td>4886</td>\n",
              "      <td>Adventure|Animation|Children|Comedy|Fantasy</td>\n",
              "    </tr>\n",
              "    <tr>\n",
              "      <th>4</th>\n",
              "      <td>Moana (2016)</td>\n",
              "      <td>166461</td>\n",
              "      <td>Adventure|Animation|Children|Comedy|Fantasy</td>\n",
              "    </tr>\n",
              "    <tr>\n",
              "      <th>5</th>\n",
              "      <td>Emperor's New Groove, The (2000)</td>\n",
              "      <td>4016</td>\n",
              "      <td>Adventure|Animation|Children|Comedy|Fantasy</td>\n",
              "    </tr>\n",
              "    <tr>\n",
              "      <th>6</th>\n",
              "      <td>Turbo (2013)</td>\n",
              "      <td>103755</td>\n",
              "      <td>Adventure|Animation|Children|Comedy|Fantasy</td>\n",
              "    </tr>\n",
              "    <tr>\n",
              "      <th>7</th>\n",
              "      <td>The Good Dinosaur (2015)</td>\n",
              "      <td>136016</td>\n",
              "      <td>Adventure|Animation|Children|Comedy|Fantasy</td>\n",
              "    </tr>\n",
              "    <tr>\n",
              "      <th>8</th>\n",
              "      <td>Toy Story 2 (1999)</td>\n",
              "      <td>3114</td>\n",
              "      <td>Adventure|Animation|Children|Comedy|Fantasy</td>\n",
              "    </tr>\n",
              "    <tr>\n",
              "      <th>9</th>\n",
              "      <td>Little Nemo: Adventures in Slumberland (1992)</td>\n",
              "      <td>2800</td>\n",
              "      <td>Adventure|Animation|Children|Drama|Fantasy</td>\n",
              "    </tr>\n",
              "  </tbody>\n",
              "</table>\n",
              "</div>\n",
              "      <button class=\"colab-df-convert\" onclick=\"convertToInteractive('df-34e0b134-83f3-4b8a-96e4-99502459d3e4')\"\n",
              "              title=\"Convert this dataframe to an interactive table.\"\n",
              "              style=\"display:none;\">\n",
              "        \n",
              "  <svg xmlns=\"http://www.w3.org/2000/svg\" height=\"24px\"viewBox=\"0 0 24 24\"\n",
              "       width=\"24px\">\n",
              "    <path d=\"M0 0h24v24H0V0z\" fill=\"none\"/>\n",
              "    <path d=\"M18.56 5.44l.94 2.06.94-2.06 2.06-.94-2.06-.94-.94-2.06-.94 2.06-2.06.94zm-11 1L8.5 8.5l.94-2.06 2.06-.94-2.06-.94L8.5 2.5l-.94 2.06-2.06.94zm10 10l.94 2.06.94-2.06 2.06-.94-2.06-.94-.94-2.06-.94 2.06-2.06.94z\"/><path d=\"M17.41 7.96l-1.37-1.37c-.4-.4-.92-.59-1.43-.59-.52 0-1.04.2-1.43.59L10.3 9.45l-7.72 7.72c-.78.78-.78 2.05 0 2.83L4 21.41c.39.39.9.59 1.41.59.51 0 1.02-.2 1.41-.59l7.78-7.78 2.81-2.81c.8-.78.8-2.07 0-2.86zM5.41 20L4 18.59l7.72-7.72 1.47 1.35L5.41 20z\"/>\n",
              "  </svg>\n",
              "      </button>\n",
              "      \n",
              "  <style>\n",
              "    .colab-df-container {\n",
              "      display:flex;\n",
              "      flex-wrap:wrap;\n",
              "      gap: 12px;\n",
              "    }\n",
              "\n",
              "    .colab-df-convert {\n",
              "      background-color: #E8F0FE;\n",
              "      border: none;\n",
              "      border-radius: 50%;\n",
              "      cursor: pointer;\n",
              "      display: none;\n",
              "      fill: #1967D2;\n",
              "      height: 32px;\n",
              "      padding: 0 0 0 0;\n",
              "      width: 32px;\n",
              "    }\n",
              "\n",
              "    .colab-df-convert:hover {\n",
              "      background-color: #E2EBFA;\n",
              "      box-shadow: 0px 1px 2px rgba(60, 64, 67, 0.3), 0px 1px 3px 1px rgba(60, 64, 67, 0.15);\n",
              "      fill: #174EA6;\n",
              "    }\n",
              "\n",
              "    [theme=dark] .colab-df-convert {\n",
              "      background-color: #3B4455;\n",
              "      fill: #D2E3FC;\n",
              "    }\n",
              "\n",
              "    [theme=dark] .colab-df-convert:hover {\n",
              "      background-color: #434B5C;\n",
              "      box-shadow: 0px 1px 3px 1px rgba(0, 0, 0, 0.15);\n",
              "      filter: drop-shadow(0px 1px 2px rgba(0, 0, 0, 0.3));\n",
              "      fill: #FFFFFF;\n",
              "    }\n",
              "  </style>\n",
              "\n",
              "      <script>\n",
              "        const buttonEl =\n",
              "          document.querySelector('#df-34e0b134-83f3-4b8a-96e4-99502459d3e4 button.colab-df-convert');\n",
              "        buttonEl.style.display =\n",
              "          google.colab.kernel.accessAllowed ? 'block' : 'none';\n",
              "\n",
              "        async function convertToInteractive(key) {\n",
              "          const element = document.querySelector('#df-34e0b134-83f3-4b8a-96e4-99502459d3e4');\n",
              "          const dataTable =\n",
              "            await google.colab.kernel.invokeFunction('convertToInteractive',\n",
              "                                                     [key], {});\n",
              "          if (!dataTable) return;\n",
              "\n",
              "          const docLinkHtml = 'Like what you see? Visit the ' +\n",
              "            '<a target=\"_blank\" href=https://colab.research.google.com/notebooks/data_table.ipynb>data table notebook</a>'\n",
              "            + ' to learn more about interactive tables.';\n",
              "          element.innerHTML = '';\n",
              "          dataTable['output_type'] = 'display_data';\n",
              "          await google.colab.output.renderOutput(dataTable, element);\n",
              "          const docLink = document.createElement('div');\n",
              "          docLink.innerHTML = docLinkHtml;\n",
              "          element.appendChild(docLink);\n",
              "        }\n",
              "      </script>\n",
              "    </div>\n",
              "  </div>\n",
              "  "
            ]
          },
          "metadata": {},
          "execution_count": 80
        }
      ]
    },
    {
      "cell_type": "markdown",
      "source": [
        "dari hasil tersebut didapatkan **9 dari 10 Film** mendapatkan rekomendasi genre yang sama (similar) dengan 4 kategori genre pada film **Toy Story (1995)**. Sehingga, dapat dikatakan **Precision Sistem yang telah dirancang pada proyek ini sebesar 90%**"
      ],
      "metadata": {
        "id": "li2fzJ4uPx4I"
      }
    },
    {
      "cell_type": "markdown",
      "source": [
        "## **Visualisasi Mean Absolute Error**"
      ],
      "metadata": {
        "id": "-Lxht66rTgBb"
      }
    },
    {
      "cell_type": "code",
      "source": [
        "plt.plot(history.history['mean_absolute_error'])\n",
        "plt.plot(history.history['val_mean_absolute_error'])\n",
        "plt.title('model_metrics')\n",
        "plt.ylabel('mean_absolute_error')\n",
        "plt.xlabel('epoch')\n",
        "plt.legend(['mean_absolute_error', 'val_mean_absolute_error'])\n",
        "plt.show()"
      ],
      "metadata": {
        "id": "R71GZ6RZ8ixA",
        "colab": {
          "base_uri": "https://localhost:8080/",
          "height": 295
        },
        "outputId": "f11e196e-5fb3-4ac9-a154-e66245d360e4"
      },
      "execution_count": 75,
      "outputs": [
        {
          "output_type": "display_data",
          "data": {
            "text/plain": [
              "<Figure size 432x288 with 1 Axes>"
            ],
            "image/png": "[encoded data removed]"
          },
          "metadata": {
            "needs_background": "light"
          }
        }
      ]
    },
    {
      "cell_type": "markdown",
      "source": [
        "## **Visualisasi Root Mean Squared Error**"
      ],
      "metadata": {
        "id": "6DBSXfyCTpAV"
      }
    },
    {
      "cell_type": "code",
      "source": [
        "plt.plot(history.history['root_mean_squared_error'])\n",
        "plt.plot(history.history['val_root_mean_squared_error'])\n",
        "plt.title('model_metrics')\n",
        "plt.ylabel('root_mean_squared_error')\n",
        "plt.xlabel('epoch')\n",
        "plt.legend(['root_mean_squared_error', 'val_root_mean_squared_error'])\n",
        "plt.show()"
      ],
      "metadata": {
        "id": "UrEpw4N28mvU",
        "colab": {
          "base_uri": "https://localhost:8080/",
          "height": 295
        },
        "outputId": "d44d6c54-492c-49c1-b7a5-995722509f25"
      },
      "execution_count": 76,
      "outputs": [
        {
          "output_type": "display_data",
          "data": {
            "text/plain": [
              "<Figure size 432x288 with 1 Axes>"
            ],
            "image/png": "[encoded data removed]"
          },
          "metadata": {
            "needs_background": "light"
          }
        }
      ]
    }
  ]
}